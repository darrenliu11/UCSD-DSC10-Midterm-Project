{
 "cells": [
  {
   "cell_type": "markdown",
   "metadata": {},
   "source": [
    "# Project 1: Restaurants 🍔\n",
    "\n",
    "## Due Saturday, October 30 at 11:59 pm"
   ]
  },
  {
   "cell_type": "markdown",
   "metadata": {},
   "source": [
    "Welcome to Project 1! Projects in DSC 10 are similar in format to homeworks, but are different in a few key ways. First, a project is comprehensive, meaning that it draws upon everything we've learned this quarter so far. Second, since problems can vary quite a bit in difficulty, some problems will be worth more points than others. Finally, in a project, the problems are more open-ended; they will usually ask for some result, but won't tell you what method should be used to get it. There might be several equally-valid approaches, and several steps might be necessary. This is closer to how data science is done in \"real life\".\n",
    "\n",
    "It is important that you **start early** on the project! It will take the place of a homework in the week that it is due, but you should also expect it to take longer than a homework. You are especially encouraged to **find a partner** to work through the project with. If you work in a pair, you must work with someone from your team, following the [Pair Programming Guidelines](https://dsc10.com/pair-programming/) on the course website. In particular, you must work together at the same time, and you are not allowed to split up the problems and each work on certain problems. If working in a pair, you should submit one notebook to Gradescope for the both of you. Use [this sheet](https://docs.google.com/spreadsheets/d/19tnetCMN1z9Kl57kKLtqNzT5ppjub1nDUniNjA-iXKE/edit#gid=0) to find someone else on your team to work with."
   ]
  },
  {
   "cell_type": "markdown",
   "metadata": {},
   "source": [
    "**Important**: The `otter` tests don't usually tell you that your answer is correct. More often, they help catch basic mistakes. It's up to you to ensure that your answer is correct. If you're not sure, ask someone (not for the answer, but for some guidance about your approach). Directly sharing answers between groups is not okay, but discussing problems with the course staff or with other students is encouraged.\n",
    "\n",
    "**Please do not use for-loops or import any packages.** Loops in Python are slow, and looping over arrays and DataFrames should usually be avoided in favor of commands that are meant specifically for these objects. This entire project can be done without any loops, using the tools we've learned so far in DSC 10. Please do no import any additional packages - you don't need them, and our autograder may not be able to run your code if you do."
   ]
  },
  {
   "cell_type": "code",
   "execution_count": 1,
   "metadata": {},
   "outputs": [],
   "source": [
    "# Please don't change this cell but do run it.\n",
    "import babypandas as bpd\n",
    "import numpy as np\n",
    "import matplotlib.pyplot as plt\n",
    "\n",
    "import otter\n",
    "grader = otter.Notebook()"
   ]
  },
  {
   "cell_type": "markdown",
   "metadata": {},
   "source": [
    "## Outline\n",
    "\n",
    "Use this outline to help you quickly navigate to the part of the project you're working on:\n",
    "- [The Data](#data)    \n",
    "- [Part 1. Chains](#part1) \n",
    "    - Questions 1.1 - 1.12    \n",
    "- [Part 2. Cities](#part2) \n",
    "    - Questions 2.1 - 2.8\n",
    "- [Part 3. Stars](#part3) \n",
    "    - Questions 3.1 - 3.5"
   ]
  },
  {
   "cell_type": "markdown",
   "metadata": {},
   "source": [
    "<a id='data'></a>\n",
    "## The Data\n",
    "\n",
    "In this project, we will explore several 2020 restaurant rankings from [Restaurant Business](https://www.restaurantbusinessonline.com) (RB), a media brand that provides business intelligence insights for commercial restaurants.\n",
    "\n",
    "Our data is split across three different CSV files, each of which contains a different set of restaurants, using a different ranking methodology. Run the cell below to load in our data as DataFrames."
   ]
  },
  {
   "cell_type": "code",
   "execution_count": 2,
   "metadata": {},
   "outputs": [],
   "source": [
    "future = bpd.read_csv('data/Future50.csv')\n",
    "\n",
    "independents = bpd.read_csv('data/Independents100.csv')\n",
    "# Ignore this, it fixes the format of the Sales column\n",
    "independents = independents.assign(Sales=independents.get('Sales').apply(int))\n",
    "\n",
    "chain_restaurants = bpd.read_csv('data/Top250.csv')"
   ]
  },
  {
   "cell_type": "markdown",
   "metadata": {},
   "source": [
    "The `future` DataFrame contains information about the 50 fastest-growing restaurant chains in the US whose yearly sales are between 25 and 50 million dollars.  Because of the moderate range for yearly sales, the `future` DataFrame does not include restaurant giants like McDonald's and Starbucks. Instead, the restaurant chains in the `future` DataFrame are mid-sized restaurant chains that may boom in popularity in the future, hence the DataFrame's name.\n",
    "\n",
    "The `future` DataFrame is sorted in descending order by percentage change in sales from 2019 to 2020 (`'YOY_Sales'`; YOY stands for \"Year-over-Year\"). `'Sales'` are reported in millions in dollars. The `'Location'` column refers to the city where the chain is headquartered, not to any specific location. \n",
    "\n",
    "Run the cell below to take a look at the `future` DataFrame, and [click here](https://www.restaurantbusinessonline.com/future-50) to see the ranking on RB's website."
   ]
  },
  {
   "cell_type": "code",
   "execution_count": 3,
   "metadata": {},
   "outputs": [
    {
     "data": {
      "text/html": [
       "<div>\n",
       "<style scoped>\n",
       "    .dataframe tbody tr th:only-of-type {\n",
       "        vertical-align: middle;\n",
       "    }\n",
       "\n",
       "    .dataframe tbody tr th {\n",
       "        vertical-align: top;\n",
       "    }\n",
       "\n",
       "    .dataframe thead th {\n",
       "        text-align: right;\n",
       "    }\n",
       "</style>\n",
       "<table border=\"1\" class=\"dataframe\">\n",
       "  <thead>\n",
       "    <tr style=\"text-align: right;\">\n",
       "      <th></th>\n",
       "      <th>Rank</th>\n",
       "      <th>Restaurant</th>\n",
       "      <th>Location</th>\n",
       "      <th>Sales</th>\n",
       "      <th>YOY_Sales</th>\n",
       "      <th>Units</th>\n",
       "      <th>YOY_Units</th>\n",
       "      <th>Unit_Volume</th>\n",
       "      <th>Franchising</th>\n",
       "    </tr>\n",
       "  </thead>\n",
       "  <tbody>\n",
       "    <tr>\n",
       "      <th>0</th>\n",
       "      <td>1</td>\n",
       "      <td>Evergreens</td>\n",
       "      <td>Seattle, Wash.</td>\n",
       "      <td>24</td>\n",
       "      <td>130.5%</td>\n",
       "      <td>26</td>\n",
       "      <td>116.7%</td>\n",
       "      <td>1150</td>\n",
       "      <td>No</td>\n",
       "    </tr>\n",
       "    <tr>\n",
       "      <th>1</th>\n",
       "      <td>2</td>\n",
       "      <td>Clean Juice</td>\n",
       "      <td>Charlotte, N.C.</td>\n",
       "      <td>44</td>\n",
       "      <td>121.9%</td>\n",
       "      <td>105</td>\n",
       "      <td>94.4%</td>\n",
       "      <td>560</td>\n",
       "      <td>Yes</td>\n",
       "    </tr>\n",
       "    <tr>\n",
       "      <th>2</th>\n",
       "      <td>3</td>\n",
       "      <td>Slapfish</td>\n",
       "      <td>Huntington Beach, Calif.</td>\n",
       "      <td>21</td>\n",
       "      <td>81.0%</td>\n",
       "      <td>21</td>\n",
       "      <td>90.9%</td>\n",
       "      <td>1370</td>\n",
       "      <td>Yes</td>\n",
       "    </tr>\n",
       "    <tr>\n",
       "      <th>3</th>\n",
       "      <td>4</td>\n",
       "      <td>Clean Eatz</td>\n",
       "      <td>Wilmington, N.C.</td>\n",
       "      <td>25</td>\n",
       "      <td>79.7%</td>\n",
       "      <td>46</td>\n",
       "      <td>58.6%</td>\n",
       "      <td>685</td>\n",
       "      <td>Yes</td>\n",
       "    </tr>\n",
       "    <tr>\n",
       "      <th>4</th>\n",
       "      <td>5</td>\n",
       "      <td>Pokeworks</td>\n",
       "      <td>Irvine, Calif.</td>\n",
       "      <td>49</td>\n",
       "      <td>77.1%</td>\n",
       "      <td>50</td>\n",
       "      <td>56.3%</td>\n",
       "      <td>1210</td>\n",
       "      <td>Yes</td>\n",
       "    </tr>\n",
       "    <tr>\n",
       "      <th>...</th>\n",
       "      <td>...</td>\n",
       "      <td>...</td>\n",
       "      <td>...</td>\n",
       "      <td>...</td>\n",
       "      <td>...</td>\n",
       "      <td>...</td>\n",
       "      <td>...</td>\n",
       "      <td>...</td>\n",
       "      <td>...</td>\n",
       "    </tr>\n",
       "    <tr>\n",
       "      <th>45</th>\n",
       "      <td>46</td>\n",
       "      <td>LA Crawfish</td>\n",
       "      <td>McAllen, Texas</td>\n",
       "      <td>48</td>\n",
       "      <td>17.6%</td>\n",
       "      <td>25</td>\n",
       "      <td>13.6%</td>\n",
       "      <td>2050</td>\n",
       "      <td>Yes</td>\n",
       "    </tr>\n",
       "    <tr>\n",
       "      <th>46</th>\n",
       "      <td>47</td>\n",
       "      <td>&amp;pizza</td>\n",
       "      <td>Washington, D.C.</td>\n",
       "      <td>45</td>\n",
       "      <td>17.1%</td>\n",
       "      <td>35</td>\n",
       "      <td>9.4%</td>\n",
       "      <td>1350</td>\n",
       "      <td>No</td>\n",
       "    </tr>\n",
       "    <tr>\n",
       "      <th>47</th>\n",
       "      <td>48</td>\n",
       "      <td>Super Duper Burgers</td>\n",
       "      <td>San Francisco, Calif.</td>\n",
       "      <td>39</td>\n",
       "      <td>16.9%</td>\n",
       "      <td>16</td>\n",
       "      <td>14.3%</td>\n",
       "      <td>2630</td>\n",
       "      <td>No</td>\n",
       "    </tr>\n",
       "    <tr>\n",
       "      <th>48</th>\n",
       "      <td>49</td>\n",
       "      <td>StoneFire Grill</td>\n",
       "      <td>Agoura Hills, Calif.</td>\n",
       "      <td>31</td>\n",
       "      <td>16.0%</td>\n",
       "      <td>13</td>\n",
       "      <td>8.3%</td>\n",
       "      <td>2550</td>\n",
       "      <td>No</td>\n",
       "    </tr>\n",
       "    <tr>\n",
       "      <th>49</th>\n",
       "      <td>50</td>\n",
       "      <td>Gus's World Famous Fried Chicken</td>\n",
       "      <td>Memphis, Tenn.</td>\n",
       "      <td>44</td>\n",
       "      <td>14.4%</td>\n",
       "      <td>28</td>\n",
       "      <td>7.7%</td>\n",
       "      <td>1600</td>\n",
       "      <td>Yes</td>\n",
       "    </tr>\n",
       "  </tbody>\n",
       "</table>\n",
       "<p>50 rows × 9 columns</p>\n",
       "</div>"
      ],
      "text/plain": [
       "    Rank                        Restaurant                  Location  Sales  \\\n",
       "0      1                        Evergreens            Seattle, Wash.     24   \n",
       "1      2                       Clean Juice           Charlotte, N.C.     44   \n",
       "2      3                          Slapfish  Huntington Beach, Calif.     21   \n",
       "3      4                        Clean Eatz          Wilmington, N.C.     25   \n",
       "4      5                         Pokeworks            Irvine, Calif.     49   \n",
       "..   ...                               ...                       ...    ...   \n",
       "45    46                       LA Crawfish            McAllen, Texas     48   \n",
       "46    47                            &pizza          Washington, D.C.     45   \n",
       "47    48               Super Duper Burgers     San Francisco, Calif.     39   \n",
       "48    49                   StoneFire Grill      Agoura Hills, Calif.     31   \n",
       "49    50  Gus's World Famous Fried Chicken            Memphis, Tenn.     44   \n",
       "\n",
       "   YOY_Sales  Units YOY_Units  Unit_Volume Franchising  \n",
       "0     130.5%     26    116.7%         1150          No  \n",
       "1     121.9%    105     94.4%          560         Yes  \n",
       "2      81.0%     21     90.9%         1370         Yes  \n",
       "3      79.7%     46     58.6%          685         Yes  \n",
       "4      77.1%     50     56.3%         1210         Yes  \n",
       "..       ...    ...       ...          ...         ...  \n",
       "45     17.6%     25     13.6%         2050         Yes  \n",
       "46     17.1%     35      9.4%         1350          No  \n",
       "47     16.9%     16     14.3%         2630          No  \n",
       "48     16.0%     13      8.3%         2550          No  \n",
       "49     14.4%     28      7.7%         1600         Yes  \n",
       "\n",
       "[50 rows x 9 columns]"
      ]
     },
     "execution_count": 3,
     "metadata": {},
     "output_type": "execute_result"
    }
   ],
   "source": [
    "future"
   ]
  },
  {
   "cell_type": "markdown",
   "metadata": {},
   "source": [
    "The `independents` DataFrame contains information about the 100 highest-grossing independent restaurants in the US, sorted by `'Sales'` in decreasing order.  A restaurant is classified as \"independent\" if it has fewer than five locations; unlike in the `future` DataFrame, the `'City'` column here corresponds to the actual location of the restaurant. Here, `'Sales'` are measured in dollars, not in millions of dollars."
   ]
  },
  {
   "cell_type": "code",
   "execution_count": 4,
   "metadata": {},
   "outputs": [
    {
     "data": {
      "text/html": [
       "<div>\n",
       "<style scoped>\n",
       "    .dataframe tbody tr th:only-of-type {\n",
       "        vertical-align: middle;\n",
       "    }\n",
       "\n",
       "    .dataframe tbody tr th {\n",
       "        vertical-align: top;\n",
       "    }\n",
       "\n",
       "    .dataframe thead th {\n",
       "        text-align: right;\n",
       "    }\n",
       "</style>\n",
       "<table border=\"1\" class=\"dataframe\">\n",
       "  <thead>\n",
       "    <tr style=\"text-align: right;\">\n",
       "      <th></th>\n",
       "      <th>Rank</th>\n",
       "      <th>Restaurant</th>\n",
       "      <th>Sales</th>\n",
       "      <th>Average Check</th>\n",
       "      <th>City</th>\n",
       "      <th>State</th>\n",
       "      <th>Meals Served</th>\n",
       "    </tr>\n",
       "  </thead>\n",
       "  <tbody>\n",
       "    <tr>\n",
       "      <th>0</th>\n",
       "      <td>1</td>\n",
       "      <td>Carmine's (Times Square)</td>\n",
       "      <td>39080335</td>\n",
       "      <td>40</td>\n",
       "      <td>New York</td>\n",
       "      <td>N.Y.</td>\n",
       "      <td>469803.0</td>\n",
       "    </tr>\n",
       "    <tr>\n",
       "      <th>1</th>\n",
       "      <td>2</td>\n",
       "      <td>The Boathouse Orlando</td>\n",
       "      <td>35218364</td>\n",
       "      <td>43</td>\n",
       "      <td>Orlando</td>\n",
       "      <td>Fla.</td>\n",
       "      <td>820819.0</td>\n",
       "    </tr>\n",
       "    <tr>\n",
       "      <th>2</th>\n",
       "      <td>3</td>\n",
       "      <td>Old Ebbitt Grill</td>\n",
       "      <td>29104017</td>\n",
       "      <td>33</td>\n",
       "      <td>Washington</td>\n",
       "      <td>D.C.</td>\n",
       "      <td>892830.0</td>\n",
       "    </tr>\n",
       "    <tr>\n",
       "      <th>3</th>\n",
       "      <td>4</td>\n",
       "      <td>LAVO Italian Restaurant &amp; Nightclub</td>\n",
       "      <td>26916180</td>\n",
       "      <td>90</td>\n",
       "      <td>New York</td>\n",
       "      <td>N.Y.</td>\n",
       "      <td>198500.0</td>\n",
       "    </tr>\n",
       "    <tr>\n",
       "      <th>4</th>\n",
       "      <td>5</td>\n",
       "      <td>Bryant Park Grill &amp; Cafe</td>\n",
       "      <td>26900000</td>\n",
       "      <td>62</td>\n",
       "      <td>New York</td>\n",
       "      <td>N.Y.</td>\n",
       "      <td>403000.0</td>\n",
       "    </tr>\n",
       "    <tr>\n",
       "      <th>...</th>\n",
       "      <td>...</td>\n",
       "      <td>...</td>\n",
       "      <td>...</td>\n",
       "      <td>...</td>\n",
       "      <td>...</td>\n",
       "      <td>...</td>\n",
       "      <td>...</td>\n",
       "    </tr>\n",
       "    <tr>\n",
       "      <th>95</th>\n",
       "      <td>96</td>\n",
       "      <td>George's at the Cove</td>\n",
       "      <td>12194000</td>\n",
       "      <td>80</td>\n",
       "      <td>La Jolla</td>\n",
       "      <td>Calif.</td>\n",
       "      <td>250000.0</td>\n",
       "    </tr>\n",
       "    <tr>\n",
       "      <th>96</th>\n",
       "      <td>97</td>\n",
       "      <td>Le Coucou</td>\n",
       "      <td>12187523</td>\n",
       "      <td>95</td>\n",
       "      <td>New York</td>\n",
       "      <td>N.Y.</td>\n",
       "      <td>87070.0</td>\n",
       "    </tr>\n",
       "    <tr>\n",
       "      <th>97</th>\n",
       "      <td>98</td>\n",
       "      <td>Mi Vida</td>\n",
       "      <td>12032014</td>\n",
       "      <td>38</td>\n",
       "      <td>Washington</td>\n",
       "      <td>D.C.</td>\n",
       "      <td>226226.0</td>\n",
       "    </tr>\n",
       "    <tr>\n",
       "      <th>98</th>\n",
       "      <td>99</td>\n",
       "      <td>Upland</td>\n",
       "      <td>11965564</td>\n",
       "      <td>52</td>\n",
       "      <td>New York</td>\n",
       "      <td>N.Y.</td>\n",
       "      <td>171825.0</td>\n",
       "    </tr>\n",
       "    <tr>\n",
       "      <th>99</th>\n",
       "      <td>100</td>\n",
       "      <td>Virgil's Real Barbecue</td>\n",
       "      <td>11391678</td>\n",
       "      <td>27</td>\n",
       "      <td>Las Vegas</td>\n",
       "      <td>Nev.</td>\n",
       "      <td>208276.0</td>\n",
       "    </tr>\n",
       "  </tbody>\n",
       "</table>\n",
       "<p>100 rows × 7 columns</p>\n",
       "</div>"
      ],
      "text/plain": [
       "    Rank                           Restaurant     Sales  Average Check  \\\n",
       "0      1             Carmine's (Times Square)  39080335             40   \n",
       "1      2                The Boathouse Orlando  35218364             43   \n",
       "2      3                     Old Ebbitt Grill  29104017             33   \n",
       "3      4  LAVO Italian Restaurant & Nightclub  26916180             90   \n",
       "4      5             Bryant Park Grill & Cafe  26900000             62   \n",
       "..   ...                                  ...       ...            ...   \n",
       "95    96                 George's at the Cove  12194000             80   \n",
       "96    97                            Le Coucou  12187523             95   \n",
       "97    98                              Mi Vida  12032014             38   \n",
       "98    99                               Upland  11965564             52   \n",
       "99   100               Virgil's Real Barbecue  11391678             27   \n",
       "\n",
       "          City   State  Meals Served  \n",
       "0     New York    N.Y.      469803.0  \n",
       "1     Orlando     Fla.      820819.0  \n",
       "2   Washington    D.C.      892830.0  \n",
       "3     New York    N.Y.      198500.0  \n",
       "4     New York    N.Y.      403000.0  \n",
       "..         ...     ...           ...  \n",
       "95    La Jolla  Calif.      250000.0  \n",
       "96    New York    N.Y.       87070.0  \n",
       "97  Washington    D.C.      226226.0  \n",
       "98    New York    N.Y.      171825.0  \n",
       "99   Las Vegas    Nev.      208276.0  \n",
       "\n",
       "[100 rows x 7 columns]"
      ]
     },
     "execution_count": 4,
     "metadata": {},
     "output_type": "execute_result"
    }
   ],
   "source": [
    "independents"
   ]
  },
  {
   "cell_type": "markdown",
   "metadata": {},
   "source": [
    "Finally, the `chain_restaurants` DataFrame contains information about the 250 largest restaurant chains in the US, sorted by `'Sales'` in decreasing order. Here, sales are measured in millions, so McDonald's sales value of `40412` really means \\$40.4 billion dollars.\n",
    "\n",
    "Run the cell below to take a look at the `chain_restaurants` DataFrame, and [click here](https://www.restaurantbusinessonline.com/top-500-chains) to see the ranking on RB's website."
   ]
  },
  {
   "cell_type": "code",
   "execution_count": 5,
   "metadata": {},
   "outputs": [
    {
     "data": {
      "text/html": [
       "<div>\n",
       "<style scoped>\n",
       "    .dataframe tbody tr th:only-of-type {\n",
       "        vertical-align: middle;\n",
       "    }\n",
       "\n",
       "    .dataframe tbody tr th {\n",
       "        vertical-align: top;\n",
       "    }\n",
       "\n",
       "    .dataframe thead th {\n",
       "        text-align: right;\n",
       "    }\n",
       "</style>\n",
       "<table border=\"1\" class=\"dataframe\">\n",
       "  <thead>\n",
       "    <tr style=\"text-align: right;\">\n",
       "      <th></th>\n",
       "      <th>Rank</th>\n",
       "      <th>Restaurant</th>\n",
       "      <th>Content</th>\n",
       "      <th>Sales</th>\n",
       "      <th>YOY_Sales</th>\n",
       "      <th>Units</th>\n",
       "      <th>YOY_Units</th>\n",
       "      <th>Headquarters</th>\n",
       "      <th>Segment_Category</th>\n",
       "    </tr>\n",
       "  </thead>\n",
       "  <tbody>\n",
       "    <tr>\n",
       "      <th>0</th>\n",
       "      <td>1</td>\n",
       "      <td>McDonald's</td>\n",
       "      <td>NaN</td>\n",
       "      <td>40412</td>\n",
       "      <td>4.9%</td>\n",
       "      <td>13846</td>\n",
       "      <td>-0.5%</td>\n",
       "      <td>NaN</td>\n",
       "      <td>Quick Service &amp; Burger</td>\n",
       "    </tr>\n",
       "    <tr>\n",
       "      <th>1</th>\n",
       "      <td>2</td>\n",
       "      <td>Starbucks</td>\n",
       "      <td>NaN</td>\n",
       "      <td>21380</td>\n",
       "      <td>8.6%</td>\n",
       "      <td>15049</td>\n",
       "      <td>3.0%</td>\n",
       "      <td>NaN</td>\n",
       "      <td>Quick Service &amp; Coffee Cafe</td>\n",
       "    </tr>\n",
       "    <tr>\n",
       "      <th>2</th>\n",
       "      <td>3</td>\n",
       "      <td>Chick-fil-A</td>\n",
       "      <td>While Popeyes got a lot of the chicken buzz in...</td>\n",
       "      <td>11320</td>\n",
       "      <td>13.0%</td>\n",
       "      <td>2470</td>\n",
       "      <td>5.0%</td>\n",
       "      <td>NaN</td>\n",
       "      <td>Quick Service &amp; Chicken</td>\n",
       "    </tr>\n",
       "    <tr>\n",
       "      <th>3</th>\n",
       "      <td>4</td>\n",
       "      <td>Taco Bell</td>\n",
       "      <td>NaN</td>\n",
       "      <td>11293</td>\n",
       "      <td>9.0%</td>\n",
       "      <td>6766</td>\n",
       "      <td>2.7%</td>\n",
       "      <td>NaN</td>\n",
       "      <td>Quick Service &amp; Mexican</td>\n",
       "    </tr>\n",
       "    <tr>\n",
       "      <th>4</th>\n",
       "      <td>5</td>\n",
       "      <td>Burger King</td>\n",
       "      <td>NaN</td>\n",
       "      <td>10204</td>\n",
       "      <td>2.7%</td>\n",
       "      <td>7346</td>\n",
       "      <td>0.2%</td>\n",
       "      <td>NaN</td>\n",
       "      <td>Quick Service &amp; Burger</td>\n",
       "    </tr>\n",
       "    <tr>\n",
       "      <th>...</th>\n",
       "      <td>...</td>\n",
       "      <td>...</td>\n",
       "      <td>...</td>\n",
       "      <td>...</td>\n",
       "      <td>...</td>\n",
       "      <td>...</td>\n",
       "      <td>...</td>\n",
       "      <td>...</td>\n",
       "      <td>...</td>\n",
       "    </tr>\n",
       "    <tr>\n",
       "      <th>245</th>\n",
       "      <td>246</td>\n",
       "      <td>Rainforest Cafe</td>\n",
       "      <td>NaN</td>\n",
       "      <td>129</td>\n",
       "      <td>-10.4%</td>\n",
       "      <td>18</td>\n",
       "      <td>-5.3%</td>\n",
       "      <td>NaN</td>\n",
       "      <td>Varied Menu</td>\n",
       "    </tr>\n",
       "    <tr>\n",
       "      <th>246</th>\n",
       "      <td>247</td>\n",
       "      <td>PDQ</td>\n",
       "      <td>NaN</td>\n",
       "      <td>127</td>\n",
       "      <td>-5.5%</td>\n",
       "      <td>56</td>\n",
       "      <td>-11.1%</td>\n",
       "      <td>NaN</td>\n",
       "      <td>Chicken</td>\n",
       "    </tr>\n",
       "    <tr>\n",
       "      <th>247</th>\n",
       "      <td>248</td>\n",
       "      <td>Lupe Tortilla</td>\n",
       "      <td>NaN</td>\n",
       "      <td>127</td>\n",
       "      <td>12.1%</td>\n",
       "      <td>25</td>\n",
       "      <td>8.7%</td>\n",
       "      <td>NaN</td>\n",
       "      <td>Mexican</td>\n",
       "    </tr>\n",
       "    <tr>\n",
       "      <th>248</th>\n",
       "      <td>249</td>\n",
       "      <td>Cook-Out Restaurant</td>\n",
       "      <td>NaN</td>\n",
       "      <td>126</td>\n",
       "      <td>10.1%</td>\n",
       "      <td>270</td>\n",
       "      <td>7.1%</td>\n",
       "      <td>NaN</td>\n",
       "      <td>Burger</td>\n",
       "    </tr>\n",
       "    <tr>\n",
       "      <th>249</th>\n",
       "      <td>250</td>\n",
       "      <td>Jollibee</td>\n",
       "      <td>NaN</td>\n",
       "      <td>126</td>\n",
       "      <td>15.2%</td>\n",
       "      <td>40</td>\n",
       "      <td>11.1%</td>\n",
       "      <td>NaN</td>\n",
       "      <td>Chicken</td>\n",
       "    </tr>\n",
       "  </tbody>\n",
       "</table>\n",
       "<p>250 rows × 9 columns</p>\n",
       "</div>"
      ],
      "text/plain": [
       "     Rank           Restaurant  \\\n",
       "0       1           McDonald's   \n",
       "1       2            Starbucks   \n",
       "2       3          Chick-fil-A   \n",
       "3       4            Taco Bell   \n",
       "4       5          Burger King   \n",
       "..    ...                  ...   \n",
       "245   246      Rainforest Cafe   \n",
       "246   247                  PDQ   \n",
       "247   248        Lupe Tortilla   \n",
       "248   249  Cook-Out Restaurant   \n",
       "249   250             Jollibee   \n",
       "\n",
       "                                               Content  Sales YOY_Sales  \\\n",
       "0                                                  NaN  40412      4.9%   \n",
       "1                                                  NaN  21380      8.6%   \n",
       "2    While Popeyes got a lot of the chicken buzz in...  11320     13.0%   \n",
       "3                                                  NaN  11293      9.0%   \n",
       "4                                                  NaN  10204      2.7%   \n",
       "..                                                 ...    ...       ...   \n",
       "245                                                NaN    129    -10.4%   \n",
       "246                                                NaN    127     -5.5%   \n",
       "247                                                NaN    127     12.1%   \n",
       "248                                                NaN    126     10.1%   \n",
       "249                                                NaN    126     15.2%   \n",
       "\n",
       "     Units YOY_Units Headquarters             Segment_Category  \n",
       "0    13846     -0.5%          NaN       Quick Service & Burger  \n",
       "1    15049      3.0%          NaN  Quick Service & Coffee Cafe  \n",
       "2     2470      5.0%          NaN      Quick Service & Chicken  \n",
       "3     6766      2.7%          NaN      Quick Service & Mexican  \n",
       "4     7346      0.2%          NaN       Quick Service & Burger  \n",
       "..     ...       ...          ...                          ...  \n",
       "245     18     -5.3%          NaN                  Varied Menu  \n",
       "246     56    -11.1%          NaN                      Chicken  \n",
       "247     25      8.7%          NaN                      Mexican  \n",
       "248    270      7.1%          NaN                       Burger  \n",
       "249     40     11.1%          NaN                      Chicken  \n",
       "\n",
       "[250 rows x 9 columns]"
      ]
     },
     "execution_count": 5,
     "metadata": {},
     "output_type": "execute_result"
    }
   ],
   "source": [
    "chain_restaurants"
   ]
  },
  {
   "cell_type": "markdown",
   "metadata": {},
   "source": [
    "<a id='part1'></a>\n",
    "## Part 1 – Chains 🍟\n",
    "\n",
    "Let's start by asking questions about the `chain_restaurants` DataFrame; we'll take a closer look at our other two DataFrames later."
   ]
  },
  {
   "cell_type": "markdown",
   "metadata": {},
   "source": [
    "### Question 1.1 \n",
    "**1 point**"
   ]
  },
  {
   "cell_type": "markdown",
   "metadata": {
    "deletable": false,
    "editable": false
   },
   "source": [
    "The `chain_restaurants` DataFrame has many columns that we aren't going to look at. Below, create a new DataFrame called `chains` with only has the columns `'Rank'`, `'Restaurant'`, `'Sales'`, `'YOY_Sales'`, and `'Segment_Category'` from the `chain_restaurants` DataFrame.\n",
    "\n",
    "<!--\n",
    "BEGIN QUESTION\n",
    "name: q1_1\n",
    "points: 1\n",
    "-->"
   ]
  },
  {
   "cell_type": "code",
   "execution_count": 6,
   "metadata": {},
   "outputs": [
    {
     "data": {
      "text/html": [
       "<div>\n",
       "<style scoped>\n",
       "    .dataframe tbody tr th:only-of-type {\n",
       "        vertical-align: middle;\n",
       "    }\n",
       "\n",
       "    .dataframe tbody tr th {\n",
       "        vertical-align: top;\n",
       "    }\n",
       "\n",
       "    .dataframe thead th {\n",
       "        text-align: right;\n",
       "    }\n",
       "</style>\n",
       "<table border=\"1\" class=\"dataframe\">\n",
       "  <thead>\n",
       "    <tr style=\"text-align: right;\">\n",
       "      <th></th>\n",
       "      <th>Rank</th>\n",
       "      <th>Restaurant</th>\n",
       "      <th>Sales</th>\n",
       "      <th>YOY_Sales</th>\n",
       "      <th>Segment_Category</th>\n",
       "    </tr>\n",
       "  </thead>\n",
       "  <tbody>\n",
       "    <tr>\n",
       "      <th>0</th>\n",
       "      <td>1</td>\n",
       "      <td>McDonald's</td>\n",
       "      <td>40412</td>\n",
       "      <td>4.9%</td>\n",
       "      <td>Quick Service &amp; Burger</td>\n",
       "    </tr>\n",
       "    <tr>\n",
       "      <th>1</th>\n",
       "      <td>2</td>\n",
       "      <td>Starbucks</td>\n",
       "      <td>21380</td>\n",
       "      <td>8.6%</td>\n",
       "      <td>Quick Service &amp; Coffee Cafe</td>\n",
       "    </tr>\n",
       "    <tr>\n",
       "      <th>2</th>\n",
       "      <td>3</td>\n",
       "      <td>Chick-fil-A</td>\n",
       "      <td>11320</td>\n",
       "      <td>13.0%</td>\n",
       "      <td>Quick Service &amp; Chicken</td>\n",
       "    </tr>\n",
       "    <tr>\n",
       "      <th>3</th>\n",
       "      <td>4</td>\n",
       "      <td>Taco Bell</td>\n",
       "      <td>11293</td>\n",
       "      <td>9.0%</td>\n",
       "      <td>Quick Service &amp; Mexican</td>\n",
       "    </tr>\n",
       "    <tr>\n",
       "      <th>4</th>\n",
       "      <td>5</td>\n",
       "      <td>Burger King</td>\n",
       "      <td>10204</td>\n",
       "      <td>2.7%</td>\n",
       "      <td>Quick Service &amp; Burger</td>\n",
       "    </tr>\n",
       "    <tr>\n",
       "      <th>...</th>\n",
       "      <td>...</td>\n",
       "      <td>...</td>\n",
       "      <td>...</td>\n",
       "      <td>...</td>\n",
       "      <td>...</td>\n",
       "    </tr>\n",
       "    <tr>\n",
       "      <th>245</th>\n",
       "      <td>246</td>\n",
       "      <td>Rainforest Cafe</td>\n",
       "      <td>129</td>\n",
       "      <td>-10.4%</td>\n",
       "      <td>Varied Menu</td>\n",
       "    </tr>\n",
       "    <tr>\n",
       "      <th>246</th>\n",
       "      <td>247</td>\n",
       "      <td>PDQ</td>\n",
       "      <td>127</td>\n",
       "      <td>-5.5%</td>\n",
       "      <td>Chicken</td>\n",
       "    </tr>\n",
       "    <tr>\n",
       "      <th>247</th>\n",
       "      <td>248</td>\n",
       "      <td>Lupe Tortilla</td>\n",
       "      <td>127</td>\n",
       "      <td>12.1%</td>\n",
       "      <td>Mexican</td>\n",
       "    </tr>\n",
       "    <tr>\n",
       "      <th>248</th>\n",
       "      <td>249</td>\n",
       "      <td>Cook-Out Restaurant</td>\n",
       "      <td>126</td>\n",
       "      <td>10.1%</td>\n",
       "      <td>Burger</td>\n",
       "    </tr>\n",
       "    <tr>\n",
       "      <th>249</th>\n",
       "      <td>250</td>\n",
       "      <td>Jollibee</td>\n",
       "      <td>126</td>\n",
       "      <td>15.2%</td>\n",
       "      <td>Chicken</td>\n",
       "    </tr>\n",
       "  </tbody>\n",
       "</table>\n",
       "<p>250 rows × 5 columns</p>\n",
       "</div>"
      ],
      "text/plain": [
       "     Rank           Restaurant  Sales YOY_Sales             Segment_Category\n",
       "0       1           McDonald's  40412      4.9%       Quick Service & Burger\n",
       "1       2            Starbucks  21380      8.6%  Quick Service & Coffee Cafe\n",
       "2       3          Chick-fil-A  11320     13.0%      Quick Service & Chicken\n",
       "3       4            Taco Bell  11293      9.0%      Quick Service & Mexican\n",
       "4       5          Burger King  10204      2.7%       Quick Service & Burger\n",
       "..    ...                  ...    ...       ...                          ...\n",
       "245   246      Rainforest Cafe    129    -10.4%                  Varied Menu\n",
       "246   247                  PDQ    127     -5.5%                      Chicken\n",
       "247   248        Lupe Tortilla    127     12.1%                      Mexican\n",
       "248   249  Cook-Out Restaurant    126     10.1%                       Burger\n",
       "249   250             Jollibee    126     15.2%                      Chicken\n",
       "\n",
       "[250 rows x 5 columns]"
      ]
     },
     "execution_count": 6,
     "metadata": {},
     "output_type": "execute_result"
    }
   ],
   "source": [
    "chains = chain_restaurants.get(['Rank','Restaurant','Sales','YOY_Sales','Segment_Category'])\n",
    "chains"
   ]
  },
  {
   "cell_type": "code",
   "execution_count": 7,
   "metadata": {
    "deletable": false,
    "editable": false
   },
   "outputs": [
    {
     "data": {
      "text/html": [
       "<p><strong><pre style='display: inline;'>q1_1</pre></strong> passed!</p>"
      ],
      "text/plain": [
       "q1_1 results: All test cases passed!"
      ]
     },
     "execution_count": 7,
     "metadata": {},
     "output_type": "execute_result"
    }
   ],
   "source": [
    "grader.check(\"q1_1\")"
   ]
  },
  {
   "cell_type": "markdown",
   "metadata": {
    "deletable": false,
    "editable": false
   },
   "source": [
    "### Question 1.2\n",
    "**1 point**\n",
    "\n",
    "We want to know the restaurant chain that ranks $n$th in RB's chain restaurant rankings; that is, the chain restaurant with the $n$th highest sales in 2020. But to do so for various values of $n$, we would have to write a long query every time. Create a function called `rank_chain` that takes as input a ranking $n$ between 1 and 250 and returns the name of the chain ranked $n$th. Example behavior of the function is shown below.\n",
    "\n",
    "```py\n",
    ">>> rank_chain(2)\n",
    "'Starbucks'\n",
    "\n",
    ">>> rank_chain(250)\n",
    "'Jollibee'\n",
    "```\n",
    "\n",
    "\n",
    "<!--\n",
    "BEGIN QUESTION\n",
    "name: q1_2\n",
    "-->"
   ]
  },
  {
   "cell_type": "code",
   "execution_count": 8,
   "metadata": {},
   "outputs": [],
   "source": [
    "def rank_chain(n):\n",
    "    restaurant = chains.set_index('Rank').get('Restaurant').loc[n]\n",
    "    return restaurant"
   ]
  },
  {
   "cell_type": "code",
   "execution_count": 9,
   "metadata": {
    "deletable": false,
    "editable": false
   },
   "outputs": [
    {
     "data": {
      "text/html": [
       "<p><strong><pre style='display: inline;'>q1_2</pre></strong> passed!</p>"
      ],
      "text/plain": [
       "q1_2 results: All test cases passed!"
      ]
     },
     "execution_count": 9,
     "metadata": {},
     "output_type": "execute_result"
    }
   ],
   "source": [
    "grader.check(\"q1_2\")"
   ]
  },
  {
   "cell_type": "markdown",
   "metadata": {
    "deletable": false,
    "editable": false
   },
   "source": [
    "### Question 1.3\n",
    "**1 point**\n",
    "\n",
    "The `'Segment_Category'` describes the food and service of each chain. What are the most popular segment categories in `chains`?\n",
    "\n",
    "Create an array called `ordered_segment_categories` containing all the segment categories, ordered from the most popular segment category to the least popular segment category in `chains`. \n",
    "\n",
    "\n",
    "<!--\n",
    "BEGIN QUESTION\n",
    "name: q1_3\n",
    "-->"
   ]
  },
  {
   "cell_type": "code",
   "execution_count": 10,
   "metadata": {},
   "outputs": [
    {
     "data": {
      "text/plain": [
       "array(['Varied Menu', 'Mexican', 'Quick Service & Burger',\n",
       "       'Italian/Pizza', 'Burger', 'Family Style',\n",
       "       'Casual Dining & Varied Menu', 'Pizza', 'Steak',\n",
       "       'Quick Service & Pizza', 'Seafood', 'Bakery Cafe',\n",
       "       'Family Dining & Family Style', 'Chicken', 'BBQ', 'Sandwich',\n",
       "       'Sports Bar', 'Quick Service & Chicken', 'Fast Casual & Sandwich',\n",
       "       'Frozen Desserts', 'Quick Service & Coffee Cafe', 'Snack',\n",
       "       'Fast Casual & Chicken', 'Casual Dining & Steak',\n",
       "       'Quick Service & Sandwich', 'Casual Dining & Italian/Pizza',\n",
       "       'Family Casual', 'Coffee Cafe', 'Fast Casual & Burger',\n",
       "       'Quick Service & Beverage', 'Asian', 'Asian/Noodle',\n",
       "       'Fast Casual & Mexican', 'Casual Dining & Sports Bar',\n",
       "       'Fast Casual & Asian/Noodle', 'Casual Dining & Seafood',\n",
       "       'Quick Service & Frozen Desserts', 'Quick Service & Mexican',\n",
       "       'Quick Service & Snack', 'Quick Service & Bakery Cafe',\n",
       "       'Casual Dining & Asian', 'Ethnic', 'Fast Casual & Bakery Cafe',\n",
       "       'Quick Service & Seafood', 'Healthy',\n",
       "       'Quick Service & Family Casual', 'Fast Casual & Pizza',\n",
       "       'Fine Dining & Steak'], dtype=object)"
      ]
     },
     "execution_count": 10,
     "metadata": {},
     "output_type": "execute_result"
    }
   ],
   "source": [
    "ordered_segment_categories = np.array(chains.groupby('Segment_Category').count().sort_values('Restaurant', ascending=False).reset_index().get('Segment_Category'))\n",
    "ordered_segment_categories"
   ]
  },
  {
   "cell_type": "code",
   "execution_count": 11,
   "metadata": {
    "deletable": false,
    "editable": false
   },
   "outputs": [
    {
     "data": {
      "text/html": [
       "<p><strong><pre style='display: inline;'>q1_3</pre></strong> passed!</p>"
      ],
      "text/plain": [
       "q1_3 results: All test cases passed!"
      ]
     },
     "execution_count": 11,
     "metadata": {},
     "output_type": "execute_result"
    }
   ],
   "source": [
    "grader.check(\"q1_3\")"
   ]
  },
  {
   "cell_type": "markdown",
   "metadata": {
    "deletable": false,
    "editable": false
   },
   "source": [
    "### Question 1.4\n",
    "**1 point**\n",
    "\n",
    "In the previous question, we determined that the segment category that appeared most often was `'Varied Menu'`. It's not immediately obvious what that means!\n",
    "\n",
    "Below, assign `varied_menu_only` to a DataFrame with only the rows in `chains` where the segment category was `'Varied Menu'`. **Don't sort or make any other modifications**.\n",
    "\n",
    "<!--\n",
    "BEGIN QUESTION\n",
    "name: q1_4\n",
    "-->"
   ]
  },
  {
   "cell_type": "code",
   "execution_count": 12,
   "metadata": {},
   "outputs": [
    {
     "data": {
      "text/html": [
       "<div>\n",
       "<style scoped>\n",
       "    .dataframe tbody tr th:only-of-type {\n",
       "        vertical-align: middle;\n",
       "    }\n",
       "\n",
       "    .dataframe tbody tr th {\n",
       "        vertical-align: top;\n",
       "    }\n",
       "\n",
       "    .dataframe thead th {\n",
       "        text-align: right;\n",
       "    }\n",
       "</style>\n",
       "<table border=\"1\" class=\"dataframe\">\n",
       "  <thead>\n",
       "    <tr style=\"text-align: right;\">\n",
       "      <th></th>\n",
       "      <th>Rank</th>\n",
       "      <th>Restaurant</th>\n",
       "      <th>Sales</th>\n",
       "      <th>YOY_Sales</th>\n",
       "      <th>Segment_Category</th>\n",
       "    </tr>\n",
       "  </thead>\n",
       "  <tbody>\n",
       "    <tr>\n",
       "      <th>102</th>\n",
       "      <td>103</td>\n",
       "      <td>O'Charley's</td>\n",
       "      <td>426</td>\n",
       "      <td>-7.6%</td>\n",
       "      <td>Varied Menu</td>\n",
       "    </tr>\n",
       "    <tr>\n",
       "      <th>119</th>\n",
       "      <td>120</td>\n",
       "      <td>Cooper's Hawk Winery &amp; Restaurants</td>\n",
       "      <td>338</td>\n",
       "      <td>19.9%</td>\n",
       "      <td>Varied Menu</td>\n",
       "    </tr>\n",
       "    <tr>\n",
       "      <th>128</th>\n",
       "      <td>129</td>\n",
       "      <td>Ninety Nine Restaurants</td>\n",
       "      <td>324</td>\n",
       "      <td>2.1%</td>\n",
       "      <td>Varied Menu</td>\n",
       "    </tr>\n",
       "    <tr>\n",
       "      <th>135</th>\n",
       "      <td>136</td>\n",
       "      <td>Bar Louie</td>\n",
       "      <td>284</td>\n",
       "      <td>-5.6%</td>\n",
       "      <td>Varied Menu</td>\n",
       "    </tr>\n",
       "    <tr>\n",
       "      <th>149</th>\n",
       "      <td>150</td>\n",
       "      <td>Seasons 52</td>\n",
       "      <td>253</td>\n",
       "      <td>1.4%</td>\n",
       "      <td>Varied Menu</td>\n",
       "    </tr>\n",
       "    <tr>\n",
       "      <th>...</th>\n",
       "      <td>...</td>\n",
       "      <td>...</td>\n",
       "      <td>...</td>\n",
       "      <td>...</td>\n",
       "      <td>...</td>\n",
       "    </tr>\n",
       "    <tr>\n",
       "      <th>212</th>\n",
       "      <td>213</td>\n",
       "      <td>Grand Lux Cafe</td>\n",
       "      <td>157</td>\n",
       "      <td>1.2%</td>\n",
       "      <td>Varied Menu</td>\n",
       "    </tr>\n",
       "    <tr>\n",
       "      <th>225</th>\n",
       "      <td>226</td>\n",
       "      <td>Topgolf</td>\n",
       "      <td>144</td>\n",
       "      <td>14.6%</td>\n",
       "      <td>Varied Menu</td>\n",
       "    </tr>\n",
       "    <tr>\n",
       "      <th>229</th>\n",
       "      <td>230</td>\n",
       "      <td>Houlihan's</td>\n",
       "      <td>143</td>\n",
       "      <td>-21.2%</td>\n",
       "      <td>Varied Menu</td>\n",
       "    </tr>\n",
       "    <tr>\n",
       "      <th>240</th>\n",
       "      <td>241</td>\n",
       "      <td>54th Street Restaurant &amp; Drafthouse</td>\n",
       "      <td>131</td>\n",
       "      <td>4.5%</td>\n",
       "      <td>Varied Menu</td>\n",
       "    </tr>\n",
       "    <tr>\n",
       "      <th>245</th>\n",
       "      <td>246</td>\n",
       "      <td>Rainforest Cafe</td>\n",
       "      <td>129</td>\n",
       "      <td>-10.4%</td>\n",
       "      <td>Varied Menu</td>\n",
       "    </tr>\n",
       "  </tbody>\n",
       "</table>\n",
       "<p>22 rows × 5 columns</p>\n",
       "</div>"
      ],
      "text/plain": [
       "     Rank                           Restaurant  Sales YOY_Sales  \\\n",
       "102   103                          O'Charley's    426     -7.6%   \n",
       "119   120   Cooper's Hawk Winery & Restaurants    338     19.9%   \n",
       "128   129              Ninety Nine Restaurants    324      2.1%   \n",
       "135   136                            Bar Louie    284     -5.6%   \n",
       "149   150                           Seasons 52    253      1.4%   \n",
       "..    ...                                  ...    ...       ...   \n",
       "212   213                       Grand Lux Cafe    157      1.2%   \n",
       "225   226                              Topgolf    144     14.6%   \n",
       "229   230                           Houlihan's    143    -21.2%   \n",
       "240   241  54th Street Restaurant & Drafthouse    131      4.5%   \n",
       "245   246                      Rainforest Cafe    129    -10.4%   \n",
       "\n",
       "    Segment_Category  \n",
       "102      Varied Menu  \n",
       "119      Varied Menu  \n",
       "128      Varied Menu  \n",
       "135      Varied Menu  \n",
       "149      Varied Menu  \n",
       "..               ...  \n",
       "212      Varied Menu  \n",
       "225      Varied Menu  \n",
       "229      Varied Menu  \n",
       "240      Varied Menu  \n",
       "245      Varied Menu  \n",
       "\n",
       "[22 rows x 5 columns]"
      ]
     },
     "execution_count": 12,
     "metadata": {},
     "output_type": "execute_result"
    }
   ],
   "source": [
    "varied_menu_only = chains[chains.get('Segment_Category')=='Varied Menu']\n",
    "varied_menu_only"
   ]
  },
  {
   "cell_type": "code",
   "execution_count": 13,
   "metadata": {
    "deletable": false,
    "editable": false
   },
   "outputs": [
    {
     "data": {
      "text/html": [
       "<p><strong><pre style='display: inline;'>q1_4</pre></strong> passed!</p>"
      ],
      "text/plain": [
       "q1_4 results: All test cases passed!"
      ]
     },
     "execution_count": 13,
     "metadata": {},
     "output_type": "execute_result"
    }
   ],
   "source": [
    "grader.check(\"q1_4\")"
   ]
  },
  {
   "cell_type": "markdown",
   "metadata": {},
   "source": [
    "As you can see, the highest ranking `'Varied Menu'` segment category restaurant chain isn't very high. Have you heard of any of these chains before? The chains 'Seasons 52' and 'True Food Kitchen' in the `varied_menu` DataFrame are at the Westfield UTC mall in San Diego right next to campus. Have you been to either of them? 🤔\n",
    "\n",
    "Remember that the data that we work with as data scientists is more than just a bunch of numbers, it is based on the world around us."
   ]
  },
  {
   "cell_type": "markdown",
   "metadata": {
    "deletable": false,
    "editable": false
   },
   "source": [
    "### Question 1.5\n",
    "**2 points**\n",
    "\n",
    "In the last two subparts we looked at the most common segment categories in `chains`. But what if we're interested in determining the segment categories that averaged the most sales?\n",
    "\n",
    "Below, assign `top_selling_segments` to a DataFrame with two columns, `'Segment_Category'` and `'Average_Sales'`, such that:\n",
    "- Each row corresponds to a single segment category, and the `'Average_Sales'` column contains the average (mean) sales for each category.\n",
    "- Only the segment categories with average sales of over 2.5 billion dollars are included. (Note, \\$2.5 billion is equivalent to `2500` in our data's units.)\n",
    "- Rows are sorted by `'Average_Sales'` in decreasing order.\n",
    "\n",
    "The first few rows of `top_selling_segments` should look like this:\n",
    "\n",
    "|     | Segment_Category            |   Average_Sales     |\n",
    "-----:|----------------------------:|--------------------:|\n",
    " **0**| Quick Service & Coffee Cafe |         7972.250000 |\n",
    " **1**| Quick Service & Burger      |         6106.460000 |\n",
    " **2**| Quick Service & Mexican     |         6071.500000 |\n",
    "\n",
    "*Hint*: You might want to create a new DataFrame rather than renaming columns.\n",
    "\n",
    "<!--\n",
    "BEGIN QUESTION\n",
    "name: q1_5\n",
    "points: 2\n",
    "-->"
   ]
  },
  {
   "cell_type": "code",
   "execution_count": 14,
   "metadata": {},
   "outputs": [
    {
     "data": {
      "text/html": [
       "<div>\n",
       "<style scoped>\n",
       "    .dataframe tbody tr th:only-of-type {\n",
       "        vertical-align: middle;\n",
       "    }\n",
       "\n",
       "    .dataframe tbody tr th {\n",
       "        vertical-align: top;\n",
       "    }\n",
       "\n",
       "    .dataframe thead th {\n",
       "        text-align: right;\n",
       "    }\n",
       "</style>\n",
       "<table border=\"1\" class=\"dataframe\">\n",
       "  <thead>\n",
       "    <tr style=\"text-align: right;\">\n",
       "      <th></th>\n",
       "      <th>Rank</th>\n",
       "      <th>Restaurant</th>\n",
       "      <th>Sales</th>\n",
       "      <th>YOY_Sales</th>\n",
       "      <th>Segment_Category</th>\n",
       "    </tr>\n",
       "  </thead>\n",
       "  <tbody>\n",
       "    <tr>\n",
       "      <th>0</th>\n",
       "      <td>1</td>\n",
       "      <td>McDonald's</td>\n",
       "      <td>40412</td>\n",
       "      <td>4.9%</td>\n",
       "      <td>Quick Service &amp; Burger</td>\n",
       "    </tr>\n",
       "    <tr>\n",
       "      <th>1</th>\n",
       "      <td>2</td>\n",
       "      <td>Starbucks</td>\n",
       "      <td>21380</td>\n",
       "      <td>8.6%</td>\n",
       "      <td>Quick Service &amp; Coffee Cafe</td>\n",
       "    </tr>\n",
       "    <tr>\n",
       "      <th>2</th>\n",
       "      <td>3</td>\n",
       "      <td>Chick-fil-A</td>\n",
       "      <td>11320</td>\n",
       "      <td>13.0%</td>\n",
       "      <td>Quick Service &amp; Chicken</td>\n",
       "    </tr>\n",
       "    <tr>\n",
       "      <th>3</th>\n",
       "      <td>4</td>\n",
       "      <td>Taco Bell</td>\n",
       "      <td>11293</td>\n",
       "      <td>9.0%</td>\n",
       "      <td>Quick Service &amp; Mexican</td>\n",
       "    </tr>\n",
       "    <tr>\n",
       "      <th>4</th>\n",
       "      <td>5</td>\n",
       "      <td>Burger King</td>\n",
       "      <td>10204</td>\n",
       "      <td>2.7%</td>\n",
       "      <td>Quick Service &amp; Burger</td>\n",
       "    </tr>\n",
       "    <tr>\n",
       "      <th>...</th>\n",
       "      <td>...</td>\n",
       "      <td>...</td>\n",
       "      <td>...</td>\n",
       "      <td>...</td>\n",
       "      <td>...</td>\n",
       "    </tr>\n",
       "    <tr>\n",
       "      <th>245</th>\n",
       "      <td>246</td>\n",
       "      <td>Rainforest Cafe</td>\n",
       "      <td>129</td>\n",
       "      <td>-10.4%</td>\n",
       "      <td>Varied Menu</td>\n",
       "    </tr>\n",
       "    <tr>\n",
       "      <th>246</th>\n",
       "      <td>247</td>\n",
       "      <td>PDQ</td>\n",
       "      <td>127</td>\n",
       "      <td>-5.5%</td>\n",
       "      <td>Chicken</td>\n",
       "    </tr>\n",
       "    <tr>\n",
       "      <th>247</th>\n",
       "      <td>248</td>\n",
       "      <td>Lupe Tortilla</td>\n",
       "      <td>127</td>\n",
       "      <td>12.1%</td>\n",
       "      <td>Mexican</td>\n",
       "    </tr>\n",
       "    <tr>\n",
       "      <th>248</th>\n",
       "      <td>249</td>\n",
       "      <td>Cook-Out Restaurant</td>\n",
       "      <td>126</td>\n",
       "      <td>10.1%</td>\n",
       "      <td>Burger</td>\n",
       "    </tr>\n",
       "    <tr>\n",
       "      <th>249</th>\n",
       "      <td>250</td>\n",
       "      <td>Jollibee</td>\n",
       "      <td>126</td>\n",
       "      <td>15.2%</td>\n",
       "      <td>Chicken</td>\n",
       "    </tr>\n",
       "  </tbody>\n",
       "</table>\n",
       "<p>250 rows × 5 columns</p>\n",
       "</div>"
      ],
      "text/plain": [
       "     Rank           Restaurant  Sales YOY_Sales             Segment_Category\n",
       "0       1           McDonald's  40412      4.9%       Quick Service & Burger\n",
       "1       2            Starbucks  21380      8.6%  Quick Service & Coffee Cafe\n",
       "2       3          Chick-fil-A  11320     13.0%      Quick Service & Chicken\n",
       "3       4            Taco Bell  11293      9.0%      Quick Service & Mexican\n",
       "4       5          Burger King  10204      2.7%       Quick Service & Burger\n",
       "..    ...                  ...    ...       ...                          ...\n",
       "245   246      Rainforest Cafe    129    -10.4%                  Varied Menu\n",
       "246   247                  PDQ    127     -5.5%                      Chicken\n",
       "247   248        Lupe Tortilla    127     12.1%                      Mexican\n",
       "248   249  Cook-Out Restaurant    126     10.1%                       Burger\n",
       "249   250             Jollibee    126     15.2%                      Chicken\n",
       "\n",
       "[250 rows x 5 columns]"
      ]
     },
     "execution_count": 14,
     "metadata": {},
     "output_type": "execute_result"
    }
   ],
   "source": [
    "chains"
   ]
  },
  {
   "cell_type": "code",
   "execution_count": 15,
   "metadata": {},
   "outputs": [
    {
     "data": {
      "text/html": [
       "<div>\n",
       "<style scoped>\n",
       "    .dataframe tbody tr th:only-of-type {\n",
       "        vertical-align: middle;\n",
       "    }\n",
       "\n",
       "    .dataframe tbody tr th {\n",
       "        vertical-align: top;\n",
       "    }\n",
       "\n",
       "    .dataframe thead th {\n",
       "        text-align: right;\n",
       "    }\n",
       "</style>\n",
       "<table border=\"1\" class=\"dataframe\">\n",
       "  <thead>\n",
       "    <tr style=\"text-align: right;\">\n",
       "      <th></th>\n",
       "      <th>Segment_Category</th>\n",
       "      <th>Average_Sales</th>\n",
       "    </tr>\n",
       "  </thead>\n",
       "  <tbody>\n",
       "    <tr>\n",
       "      <th>0</th>\n",
       "      <td>Quick Service &amp; Coffee Cafe</td>\n",
       "      <td>7972.250000</td>\n",
       "    </tr>\n",
       "    <tr>\n",
       "      <th>1</th>\n",
       "      <td>Quick Service &amp; Burger</td>\n",
       "      <td>6106.461538</td>\n",
       "    </tr>\n",
       "    <tr>\n",
       "      <th>2</th>\n",
       "      <td>Quick Service &amp; Mexican</td>\n",
       "      <td>6071.500000</td>\n",
       "    </tr>\n",
       "    <tr>\n",
       "      <th>3</th>\n",
       "      <td>Fast Casual &amp; Bakery Cafe</td>\n",
       "      <td>5890.000000</td>\n",
       "    </tr>\n",
       "    <tr>\n",
       "      <th>4</th>\n",
       "      <td>Quick Service &amp; Chicken</td>\n",
       "      <td>3769.833333</td>\n",
       "    </tr>\n",
       "    <tr>\n",
       "      <th>5</th>\n",
       "      <td>Quick Service &amp; Sandwich</td>\n",
       "      <td>3741.250000</td>\n",
       "    </tr>\n",
       "    <tr>\n",
       "      <th>6</th>\n",
       "      <td>Quick Service &amp; Pizza</td>\n",
       "      <td>2664.500000</td>\n",
       "    </tr>\n",
       "  </tbody>\n",
       "</table>\n",
       "</div>"
      ],
      "text/plain": [
       "              Segment_Category  Average_Sales\n",
       "0  Quick Service & Coffee Cafe    7972.250000\n",
       "1       Quick Service & Burger    6106.461538\n",
       "2      Quick Service & Mexican    6071.500000\n",
       "3    Fast Casual & Bakery Cafe    5890.000000\n",
       "4      Quick Service & Chicken    3769.833333\n",
       "5     Quick Service & Sandwich    3741.250000\n",
       "6        Quick Service & Pizza    2664.500000"
      ]
     },
     "execution_count": 15,
     "metadata": {},
     "output_type": "execute_result"
    }
   ],
   "source": [
    "chains_by_category=chains.groupby('Segment_Category').mean().sort_values('Sales', ascending=False).reset_index()\n",
    "selling_segments = (\n",
    "    chains_by_category\n",
    "    .assign(Average_Sales=chains_by_category.get('Sales'))\n",
    "    .get(['Segment_Category','Average_Sales'])\n",
    ")\n",
    "top_selling_segments = selling_segments[selling_segments.get('Average_Sales')>2500]\n",
    "top_selling_segments"
   ]
  },
  {
   "cell_type": "code",
   "execution_count": 16,
   "metadata": {
    "deletable": false,
    "editable": false
   },
   "outputs": [
    {
     "data": {
      "text/html": [
       "<p><strong><pre style='display: inline;'>q1_5</pre></strong> passed!</p>"
      ],
      "text/plain": [
       "q1_5 results: All test cases passed!"
      ]
     },
     "execution_count": 16,
     "metadata": {},
     "output_type": "execute_result"
    }
   ],
   "source": [
    "grader.check(\"q1_5\")"
   ]
  },
  {
   "cell_type": "markdown",
   "metadata": {
    "deletable": false,
    "editable": false
   },
   "source": [
    "### Question 1.6\n",
    "**2 points**\n",
    "\n",
    "Notice that many of the categories with high average sales include \"Quick Service\". Let us compare the \"Quick Service\" restaurant chains and the non-\"Quick Service\" chains. Find the difference between the average sales for all \"Quick Service\" restaurant chains and the average sales for all non-\"Quick Service\" chains in the `chains` DataFrame. Save the answer to `quick_sales_diff`.\n",
    "\n",
    "*Note 1*: If the restaurant chain category has the word \"Quick Service\" in it, it is a \"Quick Service\" chain.\n",
    "\n",
    "*Note 2*: Your answer should be positive.\n",
    "\n",
    "*Hint*: You can use the `-` operator on a boolean Series to negate the entire Series. Example behavior of the operation is shown below:\n",
    "\n",
    "```py\n",
    ">>> s = bpd.Series(np.array[False, True, True])\n",
    ">>> s\n",
    "0   False\n",
    "1   True\n",
    "1   True\n",
    ">>> -s\n",
    "0   True\n",
    "1   False\n",
    "1   False\n",
    "```\n",
    "\n",
    "\n",
    "<!--\n",
    "BEGIN QUESTION\n",
    "name: q1_6\n",
    "points: 2\n",
    "-->"
   ]
  },
  {
   "cell_type": "code",
   "execution_count": 17,
   "metadata": {},
   "outputs": [
    {
     "data": {
      "text/plain": [
       "2206.230463903381"
      ]
     },
     "execution_count": 17,
     "metadata": {},
     "output_type": "execute_result"
    }
   ],
   "source": [
    "quick_sales_average = (\n",
    "    selling_segments[selling_segments.get('Segment_Category').str.contains('Quick Service')]\n",
    "    .get('Average_Sales')\n",
    "    .mean()\n",
    ")\n",
    "non_quick_sales_average = (\n",
    "    selling_segments[selling_segments.get('Segment_Category').str.contains('Quick Service')==False]\n",
    "    .get('Average_Sales')\n",
    "    .mean()\n",
    ")\n",
    "quick_sales_diff = abs(quick_sales_average-non_quick_sales_average)\n",
    "quick_sales_diff"
   ]
  },
  {
   "cell_type": "code",
   "execution_count": 18,
   "metadata": {
    "deletable": false,
    "editable": false
   },
   "outputs": [
    {
     "data": {
      "text/html": [
       "<p><strong><pre style='display: inline;'>q1_6</pre></strong> passed!</p>"
      ],
      "text/plain": [
       "q1_6 results: All test cases passed!"
      ]
     },
     "execution_count": 18,
     "metadata": {},
     "output_type": "execute_result"
    }
   ],
   "source": [
    "grader.check(\"q1_6\")"
   ]
  },
  {
   "cell_type": "markdown",
   "metadata": {},
   "source": [
    "### Question 1.7\n",
    "**2 points**\n",
    "\n",
    "So far, we haven't really looked at the `'YOY_Sales'` column in `chains`. Remember, the values in `'YOY_Sales'` tell us the percentage change in sales from 2019 to 2020 for each restaurant chain (YOY means \"Year-over-Year\"); a `'YOY_Sales'` value of 8.6% means the restaurant earned 8.6% more in sales in 2020 than it did in 2019."
   ]
  },
  {
   "cell_type": "code",
   "execution_count": 19,
   "metadata": {},
   "outputs": [
    {
     "data": {
      "text/plain": [
       "array(['4.9%', '8.6%', '13.0%', '9.0%', '2.7%'], dtype=object)"
      ]
     },
     "execution_count": 19,
     "metadata": {},
     "output_type": "execute_result"
    }
   ],
   "source": [
    "# Returns an array of the first five elements in the YOY_Sales column just for us to see\n",
    "np.array(chains.get('YOY_Sales').take(np.arange(5)))"
   ]
  },
  {
   "cell_type": "markdown",
   "metadata": {},
   "source": [
    "Since the values in the `'YOY_Sales'` column are stored as strings, not numbers, we can't reliably sort by `'YOY_Sales'`. (Try it out – if you sort by `'YOY_Sales'` in decreasing order, it will tell you the highest `'YOY_Sales'` any restaurant had was 9.9%, though there are several restaurants with `'YOY_Sales'` values of over 10%.)"
   ]
  },
  {
   "cell_type": "code",
   "execution_count": 20,
   "metadata": {},
   "outputs": [],
   "source": [
    "# Use this cell for experimentation, if you want!"
   ]
  },
  {
   "cell_type": "markdown",
   "metadata": {
    "deletable": false,
    "editable": false
   },
   "source": [
    "#### Part a)\n",
    "**1 point**\n",
    "\n",
    "As we saw above, a string like '4.9%' doesn't help us. Write a function `percent_str_to_prop` that takes in a percentage string and returns the corresponding proportion, which should be a decimal between 0 and 1. Example behavior of the function is shown below.\n",
    "\n",
    "```py\n",
    ">>> percent_str_to_prop('-15.8%')\n",
    "-0.158\n",
    "\n",
    ">>> percent_str_to_prop('4.8%')\n",
    "0.048\n",
    "```\n",
    "\n",
    "<!--\n",
    "BEGIN QUESTION\n",
    "name: q1_7a\n",
    "-->"
   ]
  },
  {
   "cell_type": "code",
   "execution_count": 21,
   "metadata": {},
   "outputs": [],
   "source": [
    "def percent_str_to_prop(pct_str):\n",
    "    prop = float(pct_str.replace('%',''))/100\n",
    "    return prop"
   ]
  },
  {
   "cell_type": "code",
   "execution_count": 22,
   "metadata": {
    "deletable": false,
    "editable": false
   },
   "outputs": [
    {
     "data": {
      "text/html": [
       "<p><strong><pre style='display: inline;'>q1_7a</pre></strong> passed!</p>"
      ],
      "text/plain": [
       "q1_7a results: All test cases passed!"
      ]
     },
     "execution_count": 22,
     "metadata": {},
     "output_type": "execute_result"
    }
   ],
   "source": [
    "grader.check(\"q1_7a\")"
   ]
  },
  {
   "cell_type": "markdown",
   "metadata": {
    "deletable": false,
    "editable": false
   },
   "source": [
    "#### Part b)\n",
    "**1 point**\n",
    "\n",
    "Now that we have a function to change a percentage string into a decimal proportion, create a new DataFrame called `chains_YOY` which has the same columns as `chains`, except the values in the `'YOY_Sales'` column should be proportions.\n",
    "\n",
    "<!--\n",
    "BEGIN QUESTION\n",
    "name: q1_7b\n",
    "-->"
   ]
  },
  {
   "cell_type": "code",
   "execution_count": 23,
   "metadata": {},
   "outputs": [
    {
     "data": {
      "text/html": [
       "<div>\n",
       "<style scoped>\n",
       "    .dataframe tbody tr th:only-of-type {\n",
       "        vertical-align: middle;\n",
       "    }\n",
       "\n",
       "    .dataframe tbody tr th {\n",
       "        vertical-align: top;\n",
       "    }\n",
       "\n",
       "    .dataframe thead th {\n",
       "        text-align: right;\n",
       "    }\n",
       "</style>\n",
       "<table border=\"1\" class=\"dataframe\">\n",
       "  <thead>\n",
       "    <tr style=\"text-align: right;\">\n",
       "      <th></th>\n",
       "      <th>Rank</th>\n",
       "      <th>Restaurant</th>\n",
       "      <th>Sales</th>\n",
       "      <th>YOY_Sales</th>\n",
       "      <th>Segment_Category</th>\n",
       "    </tr>\n",
       "  </thead>\n",
       "  <tbody>\n",
       "    <tr>\n",
       "      <th>0</th>\n",
       "      <td>1</td>\n",
       "      <td>McDonald's</td>\n",
       "      <td>40412</td>\n",
       "      <td>0.049</td>\n",
       "      <td>Quick Service &amp; Burger</td>\n",
       "    </tr>\n",
       "    <tr>\n",
       "      <th>1</th>\n",
       "      <td>2</td>\n",
       "      <td>Starbucks</td>\n",
       "      <td>21380</td>\n",
       "      <td>0.086</td>\n",
       "      <td>Quick Service &amp; Coffee Cafe</td>\n",
       "    </tr>\n",
       "    <tr>\n",
       "      <th>2</th>\n",
       "      <td>3</td>\n",
       "      <td>Chick-fil-A</td>\n",
       "      <td>11320</td>\n",
       "      <td>0.130</td>\n",
       "      <td>Quick Service &amp; Chicken</td>\n",
       "    </tr>\n",
       "    <tr>\n",
       "      <th>3</th>\n",
       "      <td>4</td>\n",
       "      <td>Taco Bell</td>\n",
       "      <td>11293</td>\n",
       "      <td>0.090</td>\n",
       "      <td>Quick Service &amp; Mexican</td>\n",
       "    </tr>\n",
       "    <tr>\n",
       "      <th>4</th>\n",
       "      <td>5</td>\n",
       "      <td>Burger King</td>\n",
       "      <td>10204</td>\n",
       "      <td>0.027</td>\n",
       "      <td>Quick Service &amp; Burger</td>\n",
       "    </tr>\n",
       "    <tr>\n",
       "      <th>...</th>\n",
       "      <td>...</td>\n",
       "      <td>...</td>\n",
       "      <td>...</td>\n",
       "      <td>...</td>\n",
       "      <td>...</td>\n",
       "    </tr>\n",
       "    <tr>\n",
       "      <th>245</th>\n",
       "      <td>246</td>\n",
       "      <td>Rainforest Cafe</td>\n",
       "      <td>129</td>\n",
       "      <td>-0.104</td>\n",
       "      <td>Varied Menu</td>\n",
       "    </tr>\n",
       "    <tr>\n",
       "      <th>246</th>\n",
       "      <td>247</td>\n",
       "      <td>PDQ</td>\n",
       "      <td>127</td>\n",
       "      <td>-0.055</td>\n",
       "      <td>Chicken</td>\n",
       "    </tr>\n",
       "    <tr>\n",
       "      <th>247</th>\n",
       "      <td>248</td>\n",
       "      <td>Lupe Tortilla</td>\n",
       "      <td>127</td>\n",
       "      <td>0.121</td>\n",
       "      <td>Mexican</td>\n",
       "    </tr>\n",
       "    <tr>\n",
       "      <th>248</th>\n",
       "      <td>249</td>\n",
       "      <td>Cook-Out Restaurant</td>\n",
       "      <td>126</td>\n",
       "      <td>0.101</td>\n",
       "      <td>Burger</td>\n",
       "    </tr>\n",
       "    <tr>\n",
       "      <th>249</th>\n",
       "      <td>250</td>\n",
       "      <td>Jollibee</td>\n",
       "      <td>126</td>\n",
       "      <td>0.152</td>\n",
       "      <td>Chicken</td>\n",
       "    </tr>\n",
       "  </tbody>\n",
       "</table>\n",
       "<p>250 rows × 5 columns</p>\n",
       "</div>"
      ],
      "text/plain": [
       "     Rank           Restaurant  Sales  YOY_Sales             Segment_Category\n",
       "0       1           McDonald's  40412      0.049       Quick Service & Burger\n",
       "1       2            Starbucks  21380      0.086  Quick Service & Coffee Cafe\n",
       "2       3          Chick-fil-A  11320      0.130      Quick Service & Chicken\n",
       "3       4            Taco Bell  11293      0.090      Quick Service & Mexican\n",
       "4       5          Burger King  10204      0.027       Quick Service & Burger\n",
       "..    ...                  ...    ...        ...                          ...\n",
       "245   246      Rainforest Cafe    129     -0.104                  Varied Menu\n",
       "246   247                  PDQ    127     -0.055                      Chicken\n",
       "247   248        Lupe Tortilla    127      0.121                      Mexican\n",
       "248   249  Cook-Out Restaurant    126      0.101                       Burger\n",
       "249   250             Jollibee    126      0.152                      Chicken\n",
       "\n",
       "[250 rows x 5 columns]"
      ]
     },
     "execution_count": 23,
     "metadata": {},
     "output_type": "execute_result"
    }
   ],
   "source": [
    "chains_YOY = chains.assign(YOY_Sales=chains.get('YOY_Sales').apply(percent_str_to_prop))\n",
    "chains_YOY"
   ]
  },
  {
   "cell_type": "code",
   "execution_count": 24,
   "metadata": {
    "deletable": false,
    "editable": false
   },
   "outputs": [
    {
     "data": {
      "text/html": [
       "<p><strong><pre style='display: inline;'>q1_7b</pre></strong> passed!</p>"
      ],
      "text/plain": [
       "q1_7b results: All test cases passed!"
      ]
     },
     "execution_count": 24,
     "metadata": {},
     "output_type": "execute_result"
    }
   ],
   "source": [
    "grader.check(\"q1_7b\")"
   ]
  },
  {
   "cell_type": "markdown",
   "metadata": {
    "deletable": false,
    "editable": false
   },
   "source": [
    "### Question 1.8\n",
    "**1 point**\n",
    "\n",
    "The `'Sales'` data in the `chains` DataFrame comes from 2020. We want to find out what the sales were for 2019. Create a new column in `chains_YOY` named ``Sales_2019``, which contains the sales for each chain in 2019, in millions of dollars. \n",
    "\n",
    "<!--\n",
    "BEGIN QUESTION\n",
    "name: q1_8\n",
    "-->"
   ]
  },
  {
   "cell_type": "code",
   "execution_count": 25,
   "metadata": {
    "scrolled": true
   },
   "outputs": [
    {
     "data": {
      "text/html": [
       "<div>\n",
       "<style scoped>\n",
       "    .dataframe tbody tr th:only-of-type {\n",
       "        vertical-align: middle;\n",
       "    }\n",
       "\n",
       "    .dataframe tbody tr th {\n",
       "        vertical-align: top;\n",
       "    }\n",
       "\n",
       "    .dataframe thead th {\n",
       "        text-align: right;\n",
       "    }\n",
       "</style>\n",
       "<table border=\"1\" class=\"dataframe\">\n",
       "  <thead>\n",
       "    <tr style=\"text-align: right;\">\n",
       "      <th></th>\n",
       "      <th>Rank</th>\n",
       "      <th>Restaurant</th>\n",
       "      <th>Sales</th>\n",
       "      <th>YOY_Sales</th>\n",
       "      <th>Segment_Category</th>\n",
       "      <th>Sales_2019</th>\n",
       "    </tr>\n",
       "  </thead>\n",
       "  <tbody>\n",
       "    <tr>\n",
       "      <th>0</th>\n",
       "      <td>1</td>\n",
       "      <td>McDonald's</td>\n",
       "      <td>40412</td>\n",
       "      <td>0.049</td>\n",
       "      <td>Quick Service &amp; Burger</td>\n",
       "      <td>38524.308866</td>\n",
       "    </tr>\n",
       "    <tr>\n",
       "      <th>1</th>\n",
       "      <td>2</td>\n",
       "      <td>Starbucks</td>\n",
       "      <td>21380</td>\n",
       "      <td>0.086</td>\n",
       "      <td>Quick Service &amp; Coffee Cafe</td>\n",
       "      <td>19686.924494</td>\n",
       "    </tr>\n",
       "    <tr>\n",
       "      <th>2</th>\n",
       "      <td>3</td>\n",
       "      <td>Chick-fil-A</td>\n",
       "      <td>11320</td>\n",
       "      <td>0.130</td>\n",
       "      <td>Quick Service &amp; Chicken</td>\n",
       "      <td>10017.699115</td>\n",
       "    </tr>\n",
       "    <tr>\n",
       "      <th>3</th>\n",
       "      <td>4</td>\n",
       "      <td>Taco Bell</td>\n",
       "      <td>11293</td>\n",
       "      <td>0.090</td>\n",
       "      <td>Quick Service &amp; Mexican</td>\n",
       "      <td>10360.550459</td>\n",
       "    </tr>\n",
       "    <tr>\n",
       "      <th>4</th>\n",
       "      <td>5</td>\n",
       "      <td>Burger King</td>\n",
       "      <td>10204</td>\n",
       "      <td>0.027</td>\n",
       "      <td>Quick Service &amp; Burger</td>\n",
       "      <td>9935.735151</td>\n",
       "    </tr>\n",
       "    <tr>\n",
       "      <th>...</th>\n",
       "      <td>...</td>\n",
       "      <td>...</td>\n",
       "      <td>...</td>\n",
       "      <td>...</td>\n",
       "      <td>...</td>\n",
       "      <td>...</td>\n",
       "    </tr>\n",
       "    <tr>\n",
       "      <th>245</th>\n",
       "      <td>246</td>\n",
       "      <td>Rainforest Cafe</td>\n",
       "      <td>129</td>\n",
       "      <td>-0.104</td>\n",
       "      <td>Varied Menu</td>\n",
       "      <td>143.973214</td>\n",
       "    </tr>\n",
       "    <tr>\n",
       "      <th>246</th>\n",
       "      <td>247</td>\n",
       "      <td>PDQ</td>\n",
       "      <td>127</td>\n",
       "      <td>-0.055</td>\n",
       "      <td>Chicken</td>\n",
       "      <td>134.391534</td>\n",
       "    </tr>\n",
       "    <tr>\n",
       "      <th>247</th>\n",
       "      <td>248</td>\n",
       "      <td>Lupe Tortilla</td>\n",
       "      <td>127</td>\n",
       "      <td>0.121</td>\n",
       "      <td>Mexican</td>\n",
       "      <td>113.291704</td>\n",
       "    </tr>\n",
       "    <tr>\n",
       "      <th>248</th>\n",
       "      <td>249</td>\n",
       "      <td>Cook-Out Restaurant</td>\n",
       "      <td>126</td>\n",
       "      <td>0.101</td>\n",
       "      <td>Burger</td>\n",
       "      <td>114.441417</td>\n",
       "    </tr>\n",
       "    <tr>\n",
       "      <th>249</th>\n",
       "      <td>250</td>\n",
       "      <td>Jollibee</td>\n",
       "      <td>126</td>\n",
       "      <td>0.152</td>\n",
       "      <td>Chicken</td>\n",
       "      <td>109.375000</td>\n",
       "    </tr>\n",
       "  </tbody>\n",
       "</table>\n",
       "<p>250 rows × 6 columns</p>\n",
       "</div>"
      ],
      "text/plain": [
       "     Rank           Restaurant  Sales  YOY_Sales             Segment_Category  \\\n",
       "0       1           McDonald's  40412      0.049       Quick Service & Burger   \n",
       "1       2            Starbucks  21380      0.086  Quick Service & Coffee Cafe   \n",
       "2       3          Chick-fil-A  11320      0.130      Quick Service & Chicken   \n",
       "3       4            Taco Bell  11293      0.090      Quick Service & Mexican   \n",
       "4       5          Burger King  10204      0.027       Quick Service & Burger   \n",
       "..    ...                  ...    ...        ...                          ...   \n",
       "245   246      Rainforest Cafe    129     -0.104                  Varied Menu   \n",
       "246   247                  PDQ    127     -0.055                      Chicken   \n",
       "247   248        Lupe Tortilla    127      0.121                      Mexican   \n",
       "248   249  Cook-Out Restaurant    126      0.101                       Burger   \n",
       "249   250             Jollibee    126      0.152                      Chicken   \n",
       "\n",
       "       Sales_2019  \n",
       "0    38524.308866  \n",
       "1    19686.924494  \n",
       "2    10017.699115  \n",
       "3    10360.550459  \n",
       "4     9935.735151  \n",
       "..            ...  \n",
       "245    143.973214  \n",
       "246    134.391534  \n",
       "247    113.291704  \n",
       "248    114.441417  \n",
       "249    109.375000  \n",
       "\n",
       "[250 rows x 6 columns]"
      ]
     },
     "execution_count": 25,
     "metadata": {},
     "output_type": "execute_result"
    }
   ],
   "source": [
    "def last_year_sales(YOY_Sales):\n",
    "    last_year = 1+YOY_Sales\n",
    "    return last_year\n",
    "\n",
    "chains_YOY = chains_YOY.assign(one_plus_YOY_Sales=chains_YOY.get('YOY_Sales').apply(last_year_sales))\n",
    "chains_YOY = chains_YOY.assign(Sales_2019=chains_YOY.get('Sales')/chains_YOY.get('one_plus_YOY_Sales')).drop(columns='one_plus_YOY_Sales')\n",
    "chains_YOY"
   ]
  },
  {
   "cell_type": "code",
   "execution_count": 26,
   "metadata": {
    "deletable": false,
    "editable": false
   },
   "outputs": [
    {
     "data": {
      "text/html": [
       "<p><strong><pre style='display: inline;'>q1_8</pre></strong> passed!</p>"
      ],
      "text/plain": [
       "q1_8 results: All test cases passed!"
      ]
     },
     "execution_count": 26,
     "metadata": {},
     "output_type": "execute_result"
    }
   ],
   "source": [
    "grader.check(\"q1_8\")"
   ]
  },
  {
   "cell_type": "markdown",
   "metadata": {
    "deletable": false,
    "editable": false
   },
   "source": [
    "### Question 1.9\n",
    "**1 point**\n",
    "\n",
    "The Year-over-Year sales metric may not be very intuitive for some. So let's categorize the `'YOY_Sales'` column into 5 categories as follows:\n",
    "\n",
    "| Growth Category | Interpretation | Year-over-Year Sales |\n",
    "| --- | --- | --- |\n",
    "| 5 | rapid increase | $\\geq 0.10$ |\n",
    "| 4 | steady increase | $[0.025, 0.10)$ |\n",
    "| 3 | stagnant | $[-0.025, 0.025)$ | \n",
    "| 2 | steady decrease | $[-0.10, -0.025)$ |\n",
    "| 1 | rapid decrease | $< -0.10$ |\n",
    "\n",
    "Remember, $[a, b)$ means greater than or equal to $a$ and less than $b$.\n",
    "\n",
    "Create a new DataFrame called `chains_growth` with all the columns in `chains_YOY` plus a sixth column called `'Growth_Category'` with the corresponding numerical growth category. The first few rows of `chains_growth` should look like this:\n",
    "\n",
    "|     |   Rank | Restaurant   |   Sales | YOY_Sales   | Segment_Category            | Sales_2019 | Growth_Category   |\n",
    "-----:|-------:|-------------:|--------:|------------:|----------------------------:|-:|------------------:|\n",
    " **0**|      1 | McDonald's   |   40412 | 0.049        | Quick Service & Burger      | 38524.308866 |4   |\n",
    " **1**|      2 | Starbucks    |   21380 | 0.086        | Quick Service & Coffee Cafe | 19686.924494|4   |\n",
    " **2**|      3 | Chick-fil-A  |   11320 | 0.13      | Quick Service & Chicken     | 10017.699115|5    |\n",
    " **3**|      4 | Taco Bell    |   11293 | 0.09        | Quick Service & Mexican     |10360.550459|4   |\n",
    " **4**|      5 | Burger King  |   10204 | 0.027        | Quick Service & Burger      | 9935.735151|4  |\n",
    "\n",
    "*Note*: At the time this project was released, we haven't yet covered how to solve problems like this. You may want to revisit this later when we've learned the appropriate tools in class.\n",
    "\n",
    "<!--\n",
    "BEGIN QUESTION\n",
    "name: q1_9\n",
    "-->"
   ]
  },
  {
   "cell_type": "code",
   "execution_count": 27,
   "metadata": {},
   "outputs": [
    {
     "data": {
      "text/html": [
       "<div>\n",
       "<style scoped>\n",
       "    .dataframe tbody tr th:only-of-type {\n",
       "        vertical-align: middle;\n",
       "    }\n",
       "\n",
       "    .dataframe tbody tr th {\n",
       "        vertical-align: top;\n",
       "    }\n",
       "\n",
       "    .dataframe thead th {\n",
       "        text-align: right;\n",
       "    }\n",
       "</style>\n",
       "<table border=\"1\" class=\"dataframe\">\n",
       "  <thead>\n",
       "    <tr style=\"text-align: right;\">\n",
       "      <th></th>\n",
       "      <th>Rank</th>\n",
       "      <th>Restaurant</th>\n",
       "      <th>Sales</th>\n",
       "      <th>YOY_Sales</th>\n",
       "      <th>Segment_Category</th>\n",
       "      <th>Sales_2019</th>\n",
       "      <th>Growth_Category</th>\n",
       "    </tr>\n",
       "  </thead>\n",
       "  <tbody>\n",
       "    <tr>\n",
       "      <th>0</th>\n",
       "      <td>1</td>\n",
       "      <td>McDonald's</td>\n",
       "      <td>40412</td>\n",
       "      <td>0.049</td>\n",
       "      <td>Quick Service &amp; Burger</td>\n",
       "      <td>38524.308866</td>\n",
       "      <td>4</td>\n",
       "    </tr>\n",
       "    <tr>\n",
       "      <th>1</th>\n",
       "      <td>2</td>\n",
       "      <td>Starbucks</td>\n",
       "      <td>21380</td>\n",
       "      <td>0.086</td>\n",
       "      <td>Quick Service &amp; Coffee Cafe</td>\n",
       "      <td>19686.924494</td>\n",
       "      <td>4</td>\n",
       "    </tr>\n",
       "    <tr>\n",
       "      <th>2</th>\n",
       "      <td>3</td>\n",
       "      <td>Chick-fil-A</td>\n",
       "      <td>11320</td>\n",
       "      <td>0.130</td>\n",
       "      <td>Quick Service &amp; Chicken</td>\n",
       "      <td>10017.699115</td>\n",
       "      <td>5</td>\n",
       "    </tr>\n",
       "    <tr>\n",
       "      <th>3</th>\n",
       "      <td>4</td>\n",
       "      <td>Taco Bell</td>\n",
       "      <td>11293</td>\n",
       "      <td>0.090</td>\n",
       "      <td>Quick Service &amp; Mexican</td>\n",
       "      <td>10360.550459</td>\n",
       "      <td>4</td>\n",
       "    </tr>\n",
       "    <tr>\n",
       "      <th>4</th>\n",
       "      <td>5</td>\n",
       "      <td>Burger King</td>\n",
       "      <td>10204</td>\n",
       "      <td>0.027</td>\n",
       "      <td>Quick Service &amp; Burger</td>\n",
       "      <td>9935.735151</td>\n",
       "      <td>4</td>\n",
       "    </tr>\n",
       "    <tr>\n",
       "      <th>...</th>\n",
       "      <td>...</td>\n",
       "      <td>...</td>\n",
       "      <td>...</td>\n",
       "      <td>...</td>\n",
       "      <td>...</td>\n",
       "      <td>...</td>\n",
       "      <td>...</td>\n",
       "    </tr>\n",
       "    <tr>\n",
       "      <th>245</th>\n",
       "      <td>246</td>\n",
       "      <td>Rainforest Cafe</td>\n",
       "      <td>129</td>\n",
       "      <td>-0.104</td>\n",
       "      <td>Varied Menu</td>\n",
       "      <td>143.973214</td>\n",
       "      <td>1</td>\n",
       "    </tr>\n",
       "    <tr>\n",
       "      <th>246</th>\n",
       "      <td>247</td>\n",
       "      <td>PDQ</td>\n",
       "      <td>127</td>\n",
       "      <td>-0.055</td>\n",
       "      <td>Chicken</td>\n",
       "      <td>134.391534</td>\n",
       "      <td>2</td>\n",
       "    </tr>\n",
       "    <tr>\n",
       "      <th>247</th>\n",
       "      <td>248</td>\n",
       "      <td>Lupe Tortilla</td>\n",
       "      <td>127</td>\n",
       "      <td>0.121</td>\n",
       "      <td>Mexican</td>\n",
       "      <td>113.291704</td>\n",
       "      <td>5</td>\n",
       "    </tr>\n",
       "    <tr>\n",
       "      <th>248</th>\n",
       "      <td>249</td>\n",
       "      <td>Cook-Out Restaurant</td>\n",
       "      <td>126</td>\n",
       "      <td>0.101</td>\n",
       "      <td>Burger</td>\n",
       "      <td>114.441417</td>\n",
       "      <td>5</td>\n",
       "    </tr>\n",
       "    <tr>\n",
       "      <th>249</th>\n",
       "      <td>250</td>\n",
       "      <td>Jollibee</td>\n",
       "      <td>126</td>\n",
       "      <td>0.152</td>\n",
       "      <td>Chicken</td>\n",
       "      <td>109.375000</td>\n",
       "      <td>5</td>\n",
       "    </tr>\n",
       "  </tbody>\n",
       "</table>\n",
       "<p>250 rows × 7 columns</p>\n",
       "</div>"
      ],
      "text/plain": [
       "     Rank           Restaurant  Sales  YOY_Sales             Segment_Category  \\\n",
       "0       1           McDonald's  40412      0.049       Quick Service & Burger   \n",
       "1       2            Starbucks  21380      0.086  Quick Service & Coffee Cafe   \n",
       "2       3          Chick-fil-A  11320      0.130      Quick Service & Chicken   \n",
       "3       4            Taco Bell  11293      0.090      Quick Service & Mexican   \n",
       "4       5          Burger King  10204      0.027       Quick Service & Burger   \n",
       "..    ...                  ...    ...        ...                          ...   \n",
       "245   246      Rainforest Cafe    129     -0.104                  Varied Menu   \n",
       "246   247                  PDQ    127     -0.055                      Chicken   \n",
       "247   248        Lupe Tortilla    127      0.121                      Mexican   \n",
       "248   249  Cook-Out Restaurant    126      0.101                       Burger   \n",
       "249   250             Jollibee    126      0.152                      Chicken   \n",
       "\n",
       "       Sales_2019  Growth_Category  \n",
       "0    38524.308866                4  \n",
       "1    19686.924494                4  \n",
       "2    10017.699115                5  \n",
       "3    10360.550459                4  \n",
       "4     9935.735151                4  \n",
       "..            ...              ...  \n",
       "245    143.973214                1  \n",
       "246    134.391534                2  \n",
       "247    113.291704                5  \n",
       "248    114.441417                5  \n",
       "249    109.375000                5  \n",
       "\n",
       "[250 rows x 7 columns]"
      ]
     },
     "execution_count": 27,
     "metadata": {},
     "output_type": "execute_result"
    }
   ],
   "source": [
    "def Growth_Category(YOY_Sales):\n",
    "    if YOY_Sales < -0.1:\n",
    "        return 1\n",
    "    elif YOY_Sales < -0.025:\n",
    "        return 2\n",
    "    elif YOY_Sales < 0.025:\n",
    "        return 3\n",
    "    elif YOY_Sales < 0.1:\n",
    "        return 4\n",
    "    else:\n",
    "        return 5\n",
    "\n",
    "chains_growth = chains_YOY.assign(Growth_Category=chains_YOY.get('YOY_Sales').apply(Growth_Category))\n",
    "chains_growth"
   ]
  },
  {
   "cell_type": "code",
   "execution_count": 28,
   "metadata": {
    "deletable": false,
    "editable": false
   },
   "outputs": [
    {
     "data": {
      "text/html": [
       "<p><strong><pre style='display: inline;'>q1_9</pre></strong> passed!</p>"
      ],
      "text/plain": [
       "q1_9 results: All test cases passed!"
      ]
     },
     "execution_count": 28,
     "metadata": {},
     "output_type": "execute_result"
    }
   ],
   "source": [
    "grader.check(\"q1_9\")"
   ]
  },
  {
   "cell_type": "markdown",
   "metadata": {
    "deletable": false,
    "editable": false
   },
   "source": [
    "### Question 1.10\n",
    "**1 point**\n",
    "\n",
    "Let's find the chains that earned the prestigious `'Growth_Category'` value of 5 (rapid increase). In the variable `rapid_growth_chains`, create an array of the names of such chains, sorted in alphabetical order.\n",
    "\n",
    "<!--\n",
    "BEGIN QUESTION\n",
    "name: q1_10\n",
    "-->"
   ]
  },
  {
   "cell_type": "code",
   "execution_count": 29,
   "metadata": {
    "scrolled": true
   },
   "outputs": [
    {
     "data": {
      "text/plain": [
       "array(['Black Bear Diner', 'Blaze Pizza', 'Chick-fil-A',\n",
       "       'Chicken Salad Chick', 'Chipotle Mexican Grill',\n",
       "       'Cook-Out Restaurant', \"Cooper's Hawk Winery & Restaurants\",\n",
       "       \"Culver's\", \"Del Frisco's Double Eagle Steak House\",\n",
       "       'Dutch Bros. Coffee', 'First Watch', 'Fogo de Chao',\n",
       "       \"Freddy's Frozen Custard & Steakburgers\", 'Gyu-Kaku',\n",
       "       \"Jersey Mike's Subs\", 'Jollibee', 'Lazy Dog Restaurant & Bar',\n",
       "       'Lupe Tortilla', 'MOD Pizza', 'Metro Diner', \"Miller's Ale House\",\n",
       "       'Mission BBQ', \"Mountain Mike's Pizza\", 'Ocean Prime',\n",
       "       'Panda Express', 'Paris Baguette', 'Popeyes Louisiana Kitchen',\n",
       "       \"Portillo's\", \"Raising Cane's Chicken Fingers\",\n",
       "       'Saltgrass Steak House', 'Shake Shack', 'Smoothie King',\n",
       "       'Sweetgreen', \"Taziki's Mediterranean Cafe\", 'Texas Roadhouse',\n",
       "       'Texas de Brazil Churrascaria', 'The Habit Burger Grill',\n",
       "       'Topgolf', \"Torchy's Tacos\", 'Tropical Smoothie Cafe',\n",
       "       'True Food Kitchen', \"Uncle Julio's\", \"Walk-On's Sports Bistreaux\",\n",
       "       'Wingstop'], dtype=object)"
      ]
     },
     "execution_count": 29,
     "metadata": {},
     "output_type": "execute_result"
    }
   ],
   "source": [
    "rapid_growth_chains = np.array(chains_growth[chains_growth.get('Growth_Category')==5].sort_values('Restaurant').set_index('Restaurant').index)\n",
    "rapid_growth_chains"
   ]
  },
  {
   "cell_type": "code",
   "execution_count": 30,
   "metadata": {
    "deletable": false,
    "editable": false
   },
   "outputs": [
    {
     "data": {
      "text/html": [
       "<p><strong><pre style='display: inline;'>q1_10</pre></strong> passed!</p>"
      ],
      "text/plain": [
       "q1_10 results: All test cases passed!"
      ]
     },
     "execution_count": 30,
     "metadata": {},
     "output_type": "execute_result"
    }
   ],
   "source": [
    "grader.check(\"q1_10\")"
   ]
  },
  {
   "cell_type": "markdown",
   "metadata": {
    "deletable": false,
    "editable": false
   },
   "source": [
    "Do you know any of these restaurants? If not, maybe you will in a few years! 📈\n",
    "\n",
    "### Question 1.11\n",
    "**2 points**\n",
    "\n",
    "Since there are five possible values for `'Growth_Category'`, we might expect each growth category value to be associated with about $1/5 = 20\\%$ of restaurants. Let's see if that's the case. Set the variable `unpopular_growth_category` to the number (1 through 5) representing the growth category associated with the fewest number of restaurants. Set the variable `unpopular_proportion` to the proportion of restaurants with this growth category. \n",
    "\n",
    "<!--\n",
    "BEGIN QUESTION\n",
    "name: q1_11\n",
    "points: 2\n",
    "-->"
   ]
  },
  {
   "cell_type": "code",
   "execution_count": 31,
   "metadata": {},
   "outputs": [
    {
     "name": "stdout",
     "output_type": "stream",
     "text": [
      "The most unpopular growth category was 1; the proportion of restaurants in this category was 0.048.\n"
     ]
    }
   ],
   "source": [
    "unpopular_growth_category = chains_growth.groupby('Growth_Category').count().sort_values('Rank').index[0]\n",
    "unpopular_proportion = (chains_growth.groupby('Growth_Category').count().sort_values('Rank').get('Rank').loc[1])/chains_growth.shape[0]\n",
    "print(f\"The most unpopular growth category was {unpopular_growth_category}; the proportion of restaurants in this category was {unpopular_proportion}.\")"
   ]
  },
  {
   "cell_type": "code",
   "execution_count": 32,
   "metadata": {
    "deletable": false,
    "editable": false
   },
   "outputs": [
    {
     "data": {
      "text/html": [
       "<p><strong><pre style='display: inline;'>q1_11</pre></strong> passed!</p>"
      ],
      "text/plain": [
       "q1_11 results: All test cases passed!"
      ]
     },
     "execution_count": 32,
     "metadata": {},
     "output_type": "execute_result"
    }
   ],
   "source": [
    "grader.check(\"q1_11\")"
   ]
  },
  {
   "cell_type": "markdown",
   "metadata": {},
   "source": [
    "This is a good time to pause and remember the nature of our data. Since we're looking at only the top 250 chain restaurants by 2020 sales, our data set does not accurately represent what was going on in the restaurant industry as a whole. There may be many chain restaurants whose sales dropped significantly from 2019 to 2020, but these are less likely to be included in our dataset. We might see a very different distribution of growth categories if we were to look at a data set of the all chain restaurants instead of just the top 250. Understanding the context of how our data was collected is crucial to being able to interpret results and draw meaningful conclusions."
   ]
  },
  {
   "cell_type": "markdown",
   "metadata": {},
   "source": [
    "### Question 1.12\n",
    "**2 points**\n",
    "\n",
    "Earlier, we investigated how each segment category performed in terms of average sales for 2020. Now we'll compare segment categories by their growth category. \n",
    "\n",
    "Say you are looking to invest in some restaurant chains and instead of sales, you are more interested in growth, as determined by the `'Growth_Category'`. Plot a vertical bar chart showing the mean growth category for the top 20 segment categories. \n",
    "\n",
    "Use the bar chart to help you decide the best three segment categories of restaurants to invest in. Assign your result, as an array of three strings, to the variable `invest_segment_categories`. \n",
    "\n",
    "*Note*: It's okay to type by hand the values in `invest_segment_categories` after looking at your bar chart."
   ]
  },
  {
   "cell_type": "code",
   "execution_count": 33,
   "metadata": {},
   "outputs": [
    {
     "data": {
      "text/plain": [
       "array(['Healthy', 'Fast Casual & Pizza', 'Ethnic'], dtype='<U19')"
      ]
     },
     "execution_count": 33,
     "metadata": {},
     "output_type": "execute_result"
    },
    {
     "data": {
      "image/png": "[encoded data removed]",
      "text/plain": [
       "<Figure size 432x288 with 1 Axes>"
      ]
     },
     "metadata": {
      "needs_background": "light"
     },
     "output_type": "display_data"
    }
   ],
   "source": [
    "# Make your vertical bar chart here.\n",
    "Avg_Growth_per_Segment = chains_growth.groupby('Segment_Category').mean().sort_values('Growth_Category',ascending=False).iloc[:20]\n",
    "graph = Avg_Growth_per_Segment.plot(kind='bar',y='Growth_Category')\n",
    "invest_segment_categories = np.array(['Healthy','Fast Casual & Pizza','Ethnic'])\n",
    "invest_segment_categories"
   ]
  },
  {
   "cell_type": "code",
   "execution_count": 34,
   "metadata": {
    "deletable": false,
    "editable": false
   },
   "outputs": [
    {
     "data": {
      "text/html": [
       "<p><strong><pre style='display: inline;'>q1_12</pre></strong> passed!</p>"
      ],
      "text/plain": [
       "q1_12 results: All test cases passed!"
      ]
     },
     "execution_count": 34,
     "metadata": {},
     "output_type": "execute_result"
    }
   ],
   "source": [
    "grader.check(\"q1_12\")"
   ]
  },
  {
   "cell_type": "markdown",
   "metadata": {},
   "source": [
    "<a id='part2'></a>\n",
    "## Part 2 – Cities 🌆\n",
    "\n",
    "Awesome! Now that we've gotten a feel for the `chains` dataset, let's move on to the `future` and `independents` datasets. Since both datasets include location information, we'll focus on identifying \"hot food cities\". 🔥 \n",
    "\n",
    "Remember, the `future` DataFrame contains information about the fastest-growing chains with sales between \\\\$25 and \\\\$50 million – there's no overlap between the chains in `future` and the chains in `chains` since the \"smallest\" chain in `chains` made over \\\\$125 million last year. In `future`,  we're given the locations where the chains are headquartered. In the `independents` DataFrame, the restaurants are not chains, so we're given their actual locations."
   ]
  },
  {
   "cell_type": "markdown",
   "metadata": {
    "deletable": false,
    "editable": false
   },
   "source": [
    "### Question 2.1\n",
    "**1 point**\n",
    "\n",
    "Let's start with the `independents` DataFrame. Unlike most of the restaurants in `chains`, many independent restaurants in our data set are 💲💲💲💲. Assign `most_expensive_restaurant` to a list containing the [`'Restaurant'`, `'City'`, `'Average Check'`] of the restaurant with the highest average check in the `independents` dataset.\n",
    "\n",
    "<!--\n",
    "BEGIN QUESTION\n",
    "name: q2_1\n",
    "-->"
   ]
  },
  {
   "cell_type": "code",
   "execution_count": 35,
   "metadata": {},
   "outputs": [
    {
     "data": {
      "text/plain": [
       "['Del Posto', 'New York', 194]"
      ]
     },
     "execution_count": 35,
     "metadata": {},
     "output_type": "execute_result"
    }
   ],
   "source": [
    "all_data_most_expensive_restaurant = independents.sort_values('Average Check', ascending=False)\n",
    "most_expensive_restaurant = [all_data_most_expensive_restaurant.get('Restaurant').iloc[0], \n",
    "                             all_data_most_expensive_restaurant.get('City').iloc[0], \n",
    "                             all_data_most_expensive_restaurant.get('Average Check').iloc[0]]\n",
    "most_expensive_restaurant"
   ]
  },
  {
   "cell_type": "code",
   "execution_count": 36,
   "metadata": {
    "deletable": false,
    "editable": false
   },
   "outputs": [
    {
     "data": {
      "text/html": [
       "<p><strong><pre style='display: inline;'>q2_1</pre></strong> passed!</p>"
      ],
      "text/plain": [
       "q2_1 results: All test cases passed!"
      ]
     },
     "execution_count": 36,
     "metadata": {},
     "output_type": "execute_result"
    }
   ],
   "source": [
    "grader.check(\"q2_1\")"
   ]
  },
  {
   "cell_type": "markdown",
   "metadata": {
    "deletable": false,
    "editable": false
   },
   "source": [
    "### Question 2.2\n",
    "**1 point**\n",
    "\n",
    "Which restaurant in `independents` has the lowest sales per meal served? Assign the restaurant name to the variable `lowest_spm_restaurant` and also assign the sales per meal for this restaurant to `lowest_spm`.\n",
    "\n",
    "<!--\n",
    "BEGIN QUESTION\n",
    "name: q2_2\n",
    "-->"
   ]
  },
  {
   "cell_type": "code",
   "execution_count": 37,
   "metadata": {},
   "outputs": [
    {
     "name": "stdout",
     "output_type": "stream",
     "text": [
      "The restaurant with the lowest sales per meal is Zehnder's of Frankenmuth; the sales per meal at this restaurant was 16.749998435913103 dollars.\n"
     ]
    }
   ],
   "source": [
    "sales_per_meal_served = (\n",
    "    independents\n",
    "    .assign(Sales_per_Meal_Served = independents.get('Sales')/independents.get('Meals Served'))\n",
    "    .sort_values('Sales_per_Meal_Served')\n",
    ")\n",
    "\n",
    "lowest_spm_restaurant = sales_per_meal_served.set_index('Restaurant').index[0]\n",
    "lowest_spm = sales_per_meal_served.get('Sales_per_Meal_Served').iloc[0]\n",
    "print(f\"The restaurant with the lowest sales per meal is {lowest_spm_restaurant}; the sales per meal at this restaurant was {lowest_spm} dollars.\")"
   ]
  },
  {
   "cell_type": "code",
   "execution_count": 38,
   "metadata": {
    "deletable": false,
    "editable": false
   },
   "outputs": [
    {
     "data": {
      "text/html": [
       "<p><strong><pre style='display: inline;'>q2_2</pre></strong> passed!</p>"
      ],
      "text/plain": [
       "q2_2 results: All test cases passed!"
      ]
     },
     "execution_count": 38,
     "metadata": {},
     "output_type": "execute_result"
    }
   ],
   "source": [
    "grader.check(\"q2_2\")"
   ]
  },
  {
   "cell_type": "markdown",
   "metadata": {},
   "source": [
    "### Question 2.3\n",
    "**1 point**\n",
    "\n",
    "Unless you spend a lot of time in Michigan ✋, chances are you've probably never heard of this restaurant. Here's how the tourism site [Pure Michigan](https://www.michigan.org/property/zehnder-s-frankenmuth) describes it:\n",
    "\n",
    "*America's largest family restaurant serves approximately one million guests per year with old world hospitality. Nine dining rooms that seat more than 1,500 guests, Zehnder's offers a full service menu that features all-you-can-eat family style chicken dinners, seafood, steaks, fresh baked goods and European desserts.*\n",
    "\n",
    "Sorting `independents` by `Meals Served` shows that the `most_expensive_restaurant` served far fewer meals than the `lowest_spm_restaurant`, as you might expect. "
   ]
  },
  {
   "cell_type": "code",
   "execution_count": 39,
   "metadata": {
    "scrolled": false
   },
   "outputs": [
    {
     "data": {
      "text/html": [
       "<div>\n",
       "<style scoped>\n",
       "    .dataframe tbody tr th:only-of-type {\n",
       "        vertical-align: middle;\n",
       "    }\n",
       "\n",
       "    .dataframe tbody tr th {\n",
       "        vertical-align: top;\n",
       "    }\n",
       "\n",
       "    .dataframe thead th {\n",
       "        text-align: right;\n",
       "    }\n",
       "</style>\n",
       "<table border=\"1\" class=\"dataframe\">\n",
       "  <thead>\n",
       "    <tr style=\"text-align: right;\">\n",
       "      <th></th>\n",
       "      <th>Rank</th>\n",
       "      <th>Restaurant</th>\n",
       "      <th>Sales</th>\n",
       "      <th>Average Check</th>\n",
       "      <th>City</th>\n",
       "      <th>State</th>\n",
       "      <th>Meals Served</th>\n",
       "    </tr>\n",
       "  </thead>\n",
       "  <tbody>\n",
       "    <tr>\n",
       "      <th>96</th>\n",
       "      <td>97</td>\n",
       "      <td>Le Coucou</td>\n",
       "      <td>12187523</td>\n",
       "      <td>95</td>\n",
       "      <td>New York</td>\n",
       "      <td>N.Y.</td>\n",
       "      <td>87070.0</td>\n",
       "    </tr>\n",
       "    <tr>\n",
       "      <th>31</th>\n",
       "      <td>32</td>\n",
       "      <td>Del Posto</td>\n",
       "      <td>18625033</td>\n",
       "      <td>194</td>\n",
       "      <td>New York</td>\n",
       "      <td>N.Y.</td>\n",
       "      <td>95000.0</td>\n",
       "    </tr>\n",
       "    <tr>\n",
       "      <th>37</th>\n",
       "      <td>38</td>\n",
       "      <td>Prime Steakhouse</td>\n",
       "      <td>18248030</td>\n",
       "      <td>173</td>\n",
       "      <td>Las Vegas</td>\n",
       "      <td>Nev.</td>\n",
       "      <td>113600.0</td>\n",
       "    </tr>\n",
       "    <tr>\n",
       "      <th>36</th>\n",
       "      <td>37</td>\n",
       "      <td>Lavo Italian Restaurant &amp; Lounge</td>\n",
       "      <td>18386262</td>\n",
       "      <td>97</td>\n",
       "      <td>Las Vegas</td>\n",
       "      <td>Nev.</td>\n",
       "      <td>115500.0</td>\n",
       "    </tr>\n",
       "    <tr>\n",
       "      <th>63</th>\n",
       "      <td>64</td>\n",
       "      <td>Prime &amp; Provisions</td>\n",
       "      <td>15100000</td>\n",
       "      <td>130</td>\n",
       "      <td>Chicago</td>\n",
       "      <td>Ill.</td>\n",
       "      <td>116154.0</td>\n",
       "    </tr>\n",
       "    <tr>\n",
       "      <th>...</th>\n",
       "      <td>...</td>\n",
       "      <td>...</td>\n",
       "      <td>...</td>\n",
       "      <td>...</td>\n",
       "      <td>...</td>\n",
       "      <td>...</td>\n",
       "      <td>...</td>\n",
       "    </tr>\n",
       "    <tr>\n",
       "      <th>1</th>\n",
       "      <td>2</td>\n",
       "      <td>The Boathouse Orlando</td>\n",
       "      <td>35218364</td>\n",
       "      <td>43</td>\n",
       "      <td>Orlando</td>\n",
       "      <td>Fla.</td>\n",
       "      <td>820819.0</td>\n",
       "    </tr>\n",
       "    <tr>\n",
       "      <th>2</th>\n",
       "      <td>3</td>\n",
       "      <td>Old Ebbitt Grill</td>\n",
       "      <td>29104017</td>\n",
       "      <td>33</td>\n",
       "      <td>Washington</td>\n",
       "      <td>D.C.</td>\n",
       "      <td>892830.0</td>\n",
       "    </tr>\n",
       "    <tr>\n",
       "      <th>49</th>\n",
       "      <td>50</td>\n",
       "      <td>Frankenmuth Bavarian Inn</td>\n",
       "      <td>17388751</td>\n",
       "      <td>19</td>\n",
       "      <td>Frankenmuth</td>\n",
       "      <td>Mich.</td>\n",
       "      <td>899284.0</td>\n",
       "    </tr>\n",
       "    <tr>\n",
       "      <th>13</th>\n",
       "      <td>14</td>\n",
       "      <td>Junior's (Times Square)</td>\n",
       "      <td>23640652</td>\n",
       "      <td>23</td>\n",
       "      <td>New York</td>\n",
       "      <td>N.Y.</td>\n",
       "      <td>914500.0</td>\n",
       "    </tr>\n",
       "    <tr>\n",
       "      <th>57</th>\n",
       "      <td>58</td>\n",
       "      <td>Zehnder's of Frankenmuth</td>\n",
       "      <td>16063684</td>\n",
       "      <td>17</td>\n",
       "      <td>Frankenmuth</td>\n",
       "      <td>Mich.</td>\n",
       "      <td>959026.0</td>\n",
       "    </tr>\n",
       "  </tbody>\n",
       "</table>\n",
       "<p>100 rows × 7 columns</p>\n",
       "</div>"
      ],
      "text/plain": [
       "    Rank                        Restaurant     Sales  Average Check  \\\n",
       "96    97                         Le Coucou  12187523             95   \n",
       "31    32                         Del Posto  18625033            194   \n",
       "37    38                  Prime Steakhouse  18248030            173   \n",
       "36    37  Lavo Italian Restaurant & Lounge  18386262             97   \n",
       "63    64                Prime & Provisions  15100000            130   \n",
       "..   ...                               ...       ...            ...   \n",
       "1      2             The Boathouse Orlando  35218364             43   \n",
       "2      3                  Old Ebbitt Grill  29104017             33   \n",
       "49    50          Frankenmuth Bavarian Inn  17388751             19   \n",
       "13    14           Junior's (Times Square)  23640652             23   \n",
       "57    58          Zehnder's of Frankenmuth  16063684             17   \n",
       "\n",
       "           City  State  Meals Served  \n",
       "96     New York   N.Y.       87070.0  \n",
       "31     New York   N.Y.       95000.0  \n",
       "37    Las Vegas   Nev.      113600.0  \n",
       "36    Las Vegas   Nev.      115500.0  \n",
       "63      Chicago   Ill.      116154.0  \n",
       "..          ...    ...           ...  \n",
       "1      Orlando    Fla.      820819.0  \n",
       "2    Washington   D.C.      892830.0  \n",
       "49  Frankenmuth  Mich.      899284.0  \n",
       "13     New York   N.Y.      914500.0  \n",
       "57  Frankenmuth  Mich.      959026.0  \n",
       "\n",
       "[100 rows x 7 columns]"
      ]
     },
     "execution_count": 39,
     "metadata": {},
     "output_type": "execute_result"
    }
   ],
   "source": [
    "independents.sort_values('Meals Served')"
   ]
  },
  {
   "cell_type": "markdown",
   "metadata": {},
   "source": [
    "This may make you wonder if more expensive restaurants serve fewer meals in general. Create a data visualization based on the `independents` DataFrame that helps you answer this question."
   ]
  },
  {
   "cell_type": "markdown",
   "metadata": {
    "deletable": false,
    "editable": false
   },
   "source": [
    "<!-- BEGIN QUESTION -->\n",
    "\n",
    "<!--\n",
    "BEGIN QUESTION\n",
    "name: q2_3\n",
    "manual: true\n",
    "-->"
   ]
  },
  {
   "cell_type": "code",
   "execution_count": 40,
   "metadata": {},
   "outputs": [
    {
     "data": {
      "image/png": "[encoded data removed]",
      "text/plain": [
       "<Figure size 432x288 with 1 Axes>"
      ]
     },
     "metadata": {
      "needs_background": "light"
     },
     "output_type": "display_data"
    }
   ],
   "source": [
    "# Make your data visualization here.\n",
    "graph = independents.plot(kind='scatter',x='Average Check',y='Meals Served')"
   ]
  },
  {
   "cell_type": "markdown",
   "metadata": {},
   "source": [
    "<!-- END QUESTION -->\n",
    "\n",
    "\n",
    "\n",
    "### Question 2.4\n",
    "**3 points**\n",
    "\n",
    "Let's start working with the cities in the `independents` DataFrame. Run the following cell to get a feel for the type of cities that appear."
   ]
  },
  {
   "cell_type": "code",
   "execution_count": 41,
   "metadata": {
    "scrolled": true
   },
   "outputs": [
    {
     "data": {
      "text/html": [
       "<div>\n",
       "<style scoped>\n",
       "    .dataframe tbody tr th:only-of-type {\n",
       "        vertical-align: middle;\n",
       "    }\n",
       "\n",
       "    .dataframe tbody tr th {\n",
       "        vertical-align: top;\n",
       "    }\n",
       "\n",
       "    .dataframe thead th {\n",
       "        text-align: right;\n",
       "    }\n",
       "</style>\n",
       "<table border=\"1\" class=\"dataframe\">\n",
       "  <thead>\n",
       "    <tr style=\"text-align: right;\">\n",
       "      <th></th>\n",
       "      <th>Rank</th>\n",
       "      <th>Restaurant</th>\n",
       "      <th>Sales</th>\n",
       "      <th>Average Check</th>\n",
       "      <th>City</th>\n",
       "      <th>State</th>\n",
       "      <th>Meals Served</th>\n",
       "    </tr>\n",
       "  </thead>\n",
       "  <tbody>\n",
       "    <tr>\n",
       "      <th>0</th>\n",
       "      <td>1</td>\n",
       "      <td>Carmine's (Times Square)</td>\n",
       "      <td>39080335</td>\n",
       "      <td>40</td>\n",
       "      <td>New York</td>\n",
       "      <td>N.Y.</td>\n",
       "      <td>469803.0</td>\n",
       "    </tr>\n",
       "    <tr>\n",
       "      <th>1</th>\n",
       "      <td>2</td>\n",
       "      <td>The Boathouse Orlando</td>\n",
       "      <td>35218364</td>\n",
       "      <td>43</td>\n",
       "      <td>Orlando</td>\n",
       "      <td>Fla.</td>\n",
       "      <td>820819.0</td>\n",
       "    </tr>\n",
       "    <tr>\n",
       "      <th>2</th>\n",
       "      <td>3</td>\n",
       "      <td>Old Ebbitt Grill</td>\n",
       "      <td>29104017</td>\n",
       "      <td>33</td>\n",
       "      <td>Washington</td>\n",
       "      <td>D.C.</td>\n",
       "      <td>892830.0</td>\n",
       "    </tr>\n",
       "    <tr>\n",
       "      <th>3</th>\n",
       "      <td>4</td>\n",
       "      <td>LAVO Italian Restaurant &amp; Nightclub</td>\n",
       "      <td>26916180</td>\n",
       "      <td>90</td>\n",
       "      <td>New York</td>\n",
       "      <td>N.Y.</td>\n",
       "      <td>198500.0</td>\n",
       "    </tr>\n",
       "    <tr>\n",
       "      <th>4</th>\n",
       "      <td>5</td>\n",
       "      <td>Bryant Park Grill &amp; Cafe</td>\n",
       "      <td>26900000</td>\n",
       "      <td>62</td>\n",
       "      <td>New York</td>\n",
       "      <td>N.Y.</td>\n",
       "      <td>403000.0</td>\n",
       "    </tr>\n",
       "    <tr>\n",
       "      <th>...</th>\n",
       "      <td>...</td>\n",
       "      <td>...</td>\n",
       "      <td>...</td>\n",
       "      <td>...</td>\n",
       "      <td>...</td>\n",
       "      <td>...</td>\n",
       "      <td>...</td>\n",
       "    </tr>\n",
       "    <tr>\n",
       "      <th>95</th>\n",
       "      <td>96</td>\n",
       "      <td>George's at the Cove</td>\n",
       "      <td>12194000</td>\n",
       "      <td>80</td>\n",
       "      <td>La Jolla</td>\n",
       "      <td>Calif.</td>\n",
       "      <td>250000.0</td>\n",
       "    </tr>\n",
       "    <tr>\n",
       "      <th>96</th>\n",
       "      <td>97</td>\n",
       "      <td>Le Coucou</td>\n",
       "      <td>12187523</td>\n",
       "      <td>95</td>\n",
       "      <td>New York</td>\n",
       "      <td>N.Y.</td>\n",
       "      <td>87070.0</td>\n",
       "    </tr>\n",
       "    <tr>\n",
       "      <th>97</th>\n",
       "      <td>98</td>\n",
       "      <td>Mi Vida</td>\n",
       "      <td>12032014</td>\n",
       "      <td>38</td>\n",
       "      <td>Washington</td>\n",
       "      <td>D.C.</td>\n",
       "      <td>226226.0</td>\n",
       "    </tr>\n",
       "    <tr>\n",
       "      <th>98</th>\n",
       "      <td>99</td>\n",
       "      <td>Upland</td>\n",
       "      <td>11965564</td>\n",
       "      <td>52</td>\n",
       "      <td>New York</td>\n",
       "      <td>N.Y.</td>\n",
       "      <td>171825.0</td>\n",
       "    </tr>\n",
       "    <tr>\n",
       "      <th>99</th>\n",
       "      <td>100</td>\n",
       "      <td>Virgil's Real Barbecue</td>\n",
       "      <td>11391678</td>\n",
       "      <td>27</td>\n",
       "      <td>Las Vegas</td>\n",
       "      <td>Nev.</td>\n",
       "      <td>208276.0</td>\n",
       "    </tr>\n",
       "  </tbody>\n",
       "</table>\n",
       "<p>100 rows × 7 columns</p>\n",
       "</div>"
      ],
      "text/plain": [
       "    Rank                           Restaurant     Sales  Average Check  \\\n",
       "0      1             Carmine's (Times Square)  39080335             40   \n",
       "1      2                The Boathouse Orlando  35218364             43   \n",
       "2      3                     Old Ebbitt Grill  29104017             33   \n",
       "3      4  LAVO Italian Restaurant & Nightclub  26916180             90   \n",
       "4      5             Bryant Park Grill & Cafe  26900000             62   \n",
       "..   ...                                  ...       ...            ...   \n",
       "95    96                 George's at the Cove  12194000             80   \n",
       "96    97                            Le Coucou  12187523             95   \n",
       "97    98                              Mi Vida  12032014             38   \n",
       "98    99                               Upland  11965564             52   \n",
       "99   100               Virgil's Real Barbecue  11391678             27   \n",
       "\n",
       "          City   State  Meals Served  \n",
       "0     New York    N.Y.      469803.0  \n",
       "1     Orlando     Fla.      820819.0  \n",
       "2   Washington    D.C.      892830.0  \n",
       "3     New York    N.Y.      198500.0  \n",
       "4     New York    N.Y.      403000.0  \n",
       "..         ...     ...           ...  \n",
       "95    La Jolla  Calif.      250000.0  \n",
       "96    New York    N.Y.       87070.0  \n",
       "97  Washington    D.C.      226226.0  \n",
       "98    New York    N.Y.      171825.0  \n",
       "99   Las Vegas    Nev.      208276.0  \n",
       "\n",
       "[100 rows x 7 columns]"
      ]
     },
     "execution_count": 41,
     "metadata": {},
     "output_type": "execute_result"
    }
   ],
   "source": [
    "independents"
   ]
  },
  {
   "cell_type": "markdown",
   "metadata": {
    "deletable": false,
    "editable": false
   },
   "source": [
    "Some cities appear many times, like `'New York'` and `'Washington'`, and some appear only once, like `'Bal Harbour'`.\n",
    "\n",
    "Below, assign `city_checks` to a DataFrame with index `'City'` and column `'Average Check'`, containing the **median** `'Average Check'` in all cities with at least 3 restaurants in the dataset, sorted by median `'Average Check'` in decreasing order. The first few rows of `city_checks` should look like this:\n",
    "\n",
    "| City          |   Average Check  |\n",
    "|--------------:|-----------------------:|\n",
    "| **Las Vegas**     |                     99.0 |\n",
    "| **Miami**         |                     98.0 |\n",
    "| **New York**      |                     84.0 |\n",
    "\n",
    "\n",
    "*Note*: This question is challenging and takes multiple steps, so feel free to break it down and use as many lines of code as you need.\n",
    "\n",
    "<!--\n",
    "BEGIN QUESTION\n",
    "name: q2_4\n",
    "points: 3\n",
    "-->"
   ]
  },
  {
   "cell_type": "code",
   "execution_count": 42,
   "metadata": {},
   "outputs": [
    {
     "data": {
      "text/html": [
       "<div>\n",
       "<style scoped>\n",
       "    .dataframe tbody tr th:only-of-type {\n",
       "        vertical-align: middle;\n",
       "    }\n",
       "\n",
       "    .dataframe tbody tr th {\n",
       "        vertical-align: top;\n",
       "    }\n",
       "\n",
       "    .dataframe thead th {\n",
       "        text-align: right;\n",
       "    }\n",
       "</style>\n",
       "<table border=\"1\" class=\"dataframe\">\n",
       "  <thead>\n",
       "    <tr style=\"text-align: right;\">\n",
       "      <th></th>\n",
       "      <th>Average Check</th>\n",
       "    </tr>\n",
       "    <tr>\n",
       "      <th>City</th>\n",
       "      <th></th>\n",
       "    </tr>\n",
       "  </thead>\n",
       "  <tbody>\n",
       "    <tr>\n",
       "      <th>Las Vegas</th>\n",
       "      <td>99.0</td>\n",
       "    </tr>\n",
       "    <tr>\n",
       "      <th>Miami</th>\n",
       "      <td>98.0</td>\n",
       "    </tr>\n",
       "    <tr>\n",
       "      <th>New York</th>\n",
       "      <td>84.0</td>\n",
       "    </tr>\n",
       "    <tr>\n",
       "      <th>Chicago</th>\n",
       "      <td>82.0</td>\n",
       "    </tr>\n",
       "    <tr>\n",
       "      <th>San Francisco</th>\n",
       "      <td>54.0</td>\n",
       "    </tr>\n",
       "    <tr>\n",
       "      <th>Washington</th>\n",
       "      <td>37.0</td>\n",
       "    </tr>\n",
       "  </tbody>\n",
       "</table>\n",
       "</div>"
      ],
      "text/plain": [
       "               Average Check\n",
       "City                        \n",
       "Las Vegas               99.0\n",
       "Miami                   98.0\n",
       "New York                84.0\n",
       "Chicago                 82.0\n",
       "San Francisco           54.0\n",
       "Washington              37.0"
      ]
     },
     "execution_count": 42,
     "metadata": {},
     "output_type": "execute_result"
    }
   ],
   "source": [
    "independents_groupby_city = independents.groupby('City').count().sort_values('Restaurant')\n",
    "\n",
    "at_least_three_restaurant = (\n",
    "    independents_groupby_city[independents_groupby_city.get('Restaurant')>=3]\n",
    "    .reset_index()\n",
    "    .get(['City'])\n",
    ")\n",
    "\n",
    "average_check_median = independents.groupby('City').median().reset_index()\n",
    "\n",
    "average_check_median_less_than_three = (\n",
    "    average_check_median[(average_check_median.get('City')=='Miami')\n",
    "                        |(average_check_median.get('City')=='San Francisco')\n",
    "                        |(average_check_median.get('City')=='Washington')\n",
    "                        |(average_check_median.get('City')=='Las Vegas')\n",
    "                        |(average_check_median.get('City')=='Chicago')\n",
    "                        |(average_check_median.get('City')=='New York')]\n",
    "                        .get(['City','Average Check'])\n",
    ")\n",
    "\n",
    "city_checks = (\n",
    "    at_least_three_restaurant\n",
    "    .merge(average_check_median_less_than_three, left_on='City',right_on='City')\n",
    "    .sort_values('Average Check', ascending=False)\n",
    "    .set_index('City')\n",
    ")\n",
    "city_checks"
   ]
  },
  {
   "cell_type": "code",
   "execution_count": 43,
   "metadata": {
    "deletable": false,
    "editable": false
   },
   "outputs": [
    {
     "data": {
      "text/html": [
       "<p><strong><pre style='display: inline;'>q2_4</pre></strong> passed!</p>"
      ],
      "text/plain": [
       "q2_4 results: All test cases passed!"
      ]
     },
     "execution_count": 43,
     "metadata": {},
     "output_type": "execute_result"
    }
   ],
   "source": [
    "grader.check(\"q2_4\")"
   ]
  },
  {
   "cell_type": "markdown",
   "metadata": {},
   "source": [
    "### Question 2.5\n",
    "**1 point**\n",
    "\n",
    "Now we'll look at the cities in the `future` DataFrame."
   ]
  },
  {
   "cell_type": "code",
   "execution_count": 44,
   "metadata": {},
   "outputs": [
    {
     "data": {
      "text/html": [
       "<div>\n",
       "<style scoped>\n",
       "    .dataframe tbody tr th:only-of-type {\n",
       "        vertical-align: middle;\n",
       "    }\n",
       "\n",
       "    .dataframe tbody tr th {\n",
       "        vertical-align: top;\n",
       "    }\n",
       "\n",
       "    .dataframe thead th {\n",
       "        text-align: right;\n",
       "    }\n",
       "</style>\n",
       "<table border=\"1\" class=\"dataframe\">\n",
       "  <thead>\n",
       "    <tr style=\"text-align: right;\">\n",
       "      <th></th>\n",
       "      <th>Rank</th>\n",
       "      <th>Restaurant</th>\n",
       "      <th>Location</th>\n",
       "      <th>Sales</th>\n",
       "      <th>YOY_Sales</th>\n",
       "      <th>Units</th>\n",
       "      <th>YOY_Units</th>\n",
       "      <th>Unit_Volume</th>\n",
       "      <th>Franchising</th>\n",
       "    </tr>\n",
       "  </thead>\n",
       "  <tbody>\n",
       "    <tr>\n",
       "      <th>0</th>\n",
       "      <td>1</td>\n",
       "      <td>Evergreens</td>\n",
       "      <td>Seattle, Wash.</td>\n",
       "      <td>24</td>\n",
       "      <td>130.5%</td>\n",
       "      <td>26</td>\n",
       "      <td>116.7%</td>\n",
       "      <td>1150</td>\n",
       "      <td>No</td>\n",
       "    </tr>\n",
       "    <tr>\n",
       "      <th>1</th>\n",
       "      <td>2</td>\n",
       "      <td>Clean Juice</td>\n",
       "      <td>Charlotte, N.C.</td>\n",
       "      <td>44</td>\n",
       "      <td>121.9%</td>\n",
       "      <td>105</td>\n",
       "      <td>94.4%</td>\n",
       "      <td>560</td>\n",
       "      <td>Yes</td>\n",
       "    </tr>\n",
       "    <tr>\n",
       "      <th>2</th>\n",
       "      <td>3</td>\n",
       "      <td>Slapfish</td>\n",
       "      <td>Huntington Beach, Calif.</td>\n",
       "      <td>21</td>\n",
       "      <td>81.0%</td>\n",
       "      <td>21</td>\n",
       "      <td>90.9%</td>\n",
       "      <td>1370</td>\n",
       "      <td>Yes</td>\n",
       "    </tr>\n",
       "    <tr>\n",
       "      <th>3</th>\n",
       "      <td>4</td>\n",
       "      <td>Clean Eatz</td>\n",
       "      <td>Wilmington, N.C.</td>\n",
       "      <td>25</td>\n",
       "      <td>79.7%</td>\n",
       "      <td>46</td>\n",
       "      <td>58.6%</td>\n",
       "      <td>685</td>\n",
       "      <td>Yes</td>\n",
       "    </tr>\n",
       "    <tr>\n",
       "      <th>4</th>\n",
       "      <td>5</td>\n",
       "      <td>Pokeworks</td>\n",
       "      <td>Irvine, Calif.</td>\n",
       "      <td>49</td>\n",
       "      <td>77.1%</td>\n",
       "      <td>50</td>\n",
       "      <td>56.3%</td>\n",
       "      <td>1210</td>\n",
       "      <td>Yes</td>\n",
       "    </tr>\n",
       "    <tr>\n",
       "      <th>...</th>\n",
       "      <td>...</td>\n",
       "      <td>...</td>\n",
       "      <td>...</td>\n",
       "      <td>...</td>\n",
       "      <td>...</td>\n",
       "      <td>...</td>\n",
       "      <td>...</td>\n",
       "      <td>...</td>\n",
       "      <td>...</td>\n",
       "    </tr>\n",
       "    <tr>\n",
       "      <th>45</th>\n",
       "      <td>46</td>\n",
       "      <td>LA Crawfish</td>\n",
       "      <td>McAllen, Texas</td>\n",
       "      <td>48</td>\n",
       "      <td>17.6%</td>\n",
       "      <td>25</td>\n",
       "      <td>13.6%</td>\n",
       "      <td>2050</td>\n",
       "      <td>Yes</td>\n",
       "    </tr>\n",
       "    <tr>\n",
       "      <th>46</th>\n",
       "      <td>47</td>\n",
       "      <td>&amp;pizza</td>\n",
       "      <td>Washington, D.C.</td>\n",
       "      <td>45</td>\n",
       "      <td>17.1%</td>\n",
       "      <td>35</td>\n",
       "      <td>9.4%</td>\n",
       "      <td>1350</td>\n",
       "      <td>No</td>\n",
       "    </tr>\n",
       "    <tr>\n",
       "      <th>47</th>\n",
       "      <td>48</td>\n",
       "      <td>Super Duper Burgers</td>\n",
       "      <td>San Francisco, Calif.</td>\n",
       "      <td>39</td>\n",
       "      <td>16.9%</td>\n",
       "      <td>16</td>\n",
       "      <td>14.3%</td>\n",
       "      <td>2630</td>\n",
       "      <td>No</td>\n",
       "    </tr>\n",
       "    <tr>\n",
       "      <th>48</th>\n",
       "      <td>49</td>\n",
       "      <td>StoneFire Grill</td>\n",
       "      <td>Agoura Hills, Calif.</td>\n",
       "      <td>31</td>\n",
       "      <td>16.0%</td>\n",
       "      <td>13</td>\n",
       "      <td>8.3%</td>\n",
       "      <td>2550</td>\n",
       "      <td>No</td>\n",
       "    </tr>\n",
       "    <tr>\n",
       "      <th>49</th>\n",
       "      <td>50</td>\n",
       "      <td>Gus's World Famous Fried Chicken</td>\n",
       "      <td>Memphis, Tenn.</td>\n",
       "      <td>44</td>\n",
       "      <td>14.4%</td>\n",
       "      <td>28</td>\n",
       "      <td>7.7%</td>\n",
       "      <td>1600</td>\n",
       "      <td>Yes</td>\n",
       "    </tr>\n",
       "  </tbody>\n",
       "</table>\n",
       "<p>50 rows × 9 columns</p>\n",
       "</div>"
      ],
      "text/plain": [
       "    Rank                        Restaurant                  Location  Sales  \\\n",
       "0      1                        Evergreens            Seattle, Wash.     24   \n",
       "1      2                       Clean Juice           Charlotte, N.C.     44   \n",
       "2      3                          Slapfish  Huntington Beach, Calif.     21   \n",
       "3      4                        Clean Eatz          Wilmington, N.C.     25   \n",
       "4      5                         Pokeworks            Irvine, Calif.     49   \n",
       "..   ...                               ...                       ...    ...   \n",
       "45    46                       LA Crawfish            McAllen, Texas     48   \n",
       "46    47                            &pizza          Washington, D.C.     45   \n",
       "47    48               Super Duper Burgers     San Francisco, Calif.     39   \n",
       "48    49                   StoneFire Grill      Agoura Hills, Calif.     31   \n",
       "49    50  Gus's World Famous Fried Chicken            Memphis, Tenn.     44   \n",
       "\n",
       "   YOY_Sales  Units YOY_Units  Unit_Volume Franchising  \n",
       "0     130.5%     26    116.7%         1150          No  \n",
       "1     121.9%    105     94.4%          560         Yes  \n",
       "2      81.0%     21     90.9%         1370         Yes  \n",
       "3      79.7%     46     58.6%          685         Yes  \n",
       "4      77.1%     50     56.3%         1210         Yes  \n",
       "..       ...    ...       ...          ...         ...  \n",
       "45     17.6%     25     13.6%         2050         Yes  \n",
       "46     17.1%     35      9.4%         1350          No  \n",
       "47     16.9%     16     14.3%         2630          No  \n",
       "48     16.0%     13      8.3%         2550          No  \n",
       "49     14.4%     28      7.7%         1600         Yes  \n",
       "\n",
       "[50 rows x 9 columns]"
      ]
     },
     "execution_count": 44,
     "metadata": {},
     "output_type": "execute_result"
    }
   ],
   "source": [
    "future"
   ]
  },
  {
   "cell_type": "markdown",
   "metadata": {
    "deletable": false,
    "editable": false
   },
   "source": [
    "We're eventually going to want to merge `independents` and `future` by city, but right now we can't do that, since `future` does not have a column with just the name of the city in it. `future`'s `'Location'` column also includes the state's name.\n",
    "\n",
    "Below, create a DataFrame called `future_with_city` with the `'Rank'`, `'Restaurant'`, `'Sales'`, and `'YOY_Sales'` columns from `future` but with an additional column, `'City'`, that contains the name of the city in which the restaurant is headquartered. The first few rows of `future_with_city` are shown below; the order of the columns in `future_with_city` **must** match the output below.\n",
    "\n",
    "|    |   Rank | Restaurant   | City             |   Sales | YOY_Sales   |\n",
    "|-----:|-------:|-------------:|-----------------:|--------:|------------:|\n",
    "**0**     |      1 | Evergreens   | Seattle          |      24 | 130.5%      |\n",
    "**1**       |      2 | Clean Juice  | Charlotte        |      44 | 121.9%      |\n",
    "**2**       |      3 | Slapfish     | Huntington Beach |      21 | 81.0%       |\n",
    " **3**      |      4 | Clean Eatz   | Wilmington       |      25 | 79.7%       |\n",
    "  **4**     |      5 | Pokeworks    | Irvine           |      49 | 77.1%       |\n",
    "\n",
    "*Hint*: If you pass in a `list` of columns to `.get`, the resulting DataFrame will have only the columns you listed, in the order that you listed them.\n",
    "\n",
    "<!--\n",
    "BEGIN QUESTION\n",
    "name: q2_5\n",
    "-->"
   ]
  },
  {
   "cell_type": "code",
   "execution_count": 45,
   "metadata": {},
   "outputs": [
    {
     "data": {
      "text/html": [
       "<div>\n",
       "<style scoped>\n",
       "    .dataframe tbody tr th:only-of-type {\n",
       "        vertical-align: middle;\n",
       "    }\n",
       "\n",
       "    .dataframe tbody tr th {\n",
       "        vertical-align: top;\n",
       "    }\n",
       "\n",
       "    .dataframe thead th {\n",
       "        text-align: right;\n",
       "    }\n",
       "</style>\n",
       "<table border=\"1\" class=\"dataframe\">\n",
       "  <thead>\n",
       "    <tr style=\"text-align: right;\">\n",
       "      <th></th>\n",
       "      <th>Rank</th>\n",
       "      <th>Restaurant</th>\n",
       "      <th>City</th>\n",
       "      <th>Sales</th>\n",
       "      <th>YOY_Sales</th>\n",
       "    </tr>\n",
       "  </thead>\n",
       "  <tbody>\n",
       "    <tr>\n",
       "      <th>0</th>\n",
       "      <td>1</td>\n",
       "      <td>Evergreens</td>\n",
       "      <td>Seattle</td>\n",
       "      <td>24</td>\n",
       "      <td>130.5%</td>\n",
       "    </tr>\n",
       "    <tr>\n",
       "      <th>1</th>\n",
       "      <td>2</td>\n",
       "      <td>Clean Juice</td>\n",
       "      <td>Charlotte</td>\n",
       "      <td>44</td>\n",
       "      <td>121.9%</td>\n",
       "    </tr>\n",
       "    <tr>\n",
       "      <th>2</th>\n",
       "      <td>3</td>\n",
       "      <td>Slapfish</td>\n",
       "      <td>Huntington Beach</td>\n",
       "      <td>21</td>\n",
       "      <td>81.0%</td>\n",
       "    </tr>\n",
       "    <tr>\n",
       "      <th>3</th>\n",
       "      <td>4</td>\n",
       "      <td>Clean Eatz</td>\n",
       "      <td>Wilmington</td>\n",
       "      <td>25</td>\n",
       "      <td>79.7%</td>\n",
       "    </tr>\n",
       "    <tr>\n",
       "      <th>4</th>\n",
       "      <td>5</td>\n",
       "      <td>Pokeworks</td>\n",
       "      <td>Irvine</td>\n",
       "      <td>49</td>\n",
       "      <td>77.1%</td>\n",
       "    </tr>\n",
       "    <tr>\n",
       "      <th>...</th>\n",
       "      <td>...</td>\n",
       "      <td>...</td>\n",
       "      <td>...</td>\n",
       "      <td>...</td>\n",
       "      <td>...</td>\n",
       "    </tr>\n",
       "    <tr>\n",
       "      <th>45</th>\n",
       "      <td>46</td>\n",
       "      <td>LA Crawfish</td>\n",
       "      <td>McAllen</td>\n",
       "      <td>48</td>\n",
       "      <td>17.6%</td>\n",
       "    </tr>\n",
       "    <tr>\n",
       "      <th>46</th>\n",
       "      <td>47</td>\n",
       "      <td>&amp;pizza</td>\n",
       "      <td>Washington</td>\n",
       "      <td>45</td>\n",
       "      <td>17.1%</td>\n",
       "    </tr>\n",
       "    <tr>\n",
       "      <th>47</th>\n",
       "      <td>48</td>\n",
       "      <td>Super Duper Burgers</td>\n",
       "      <td>San Francisco</td>\n",
       "      <td>39</td>\n",
       "      <td>16.9%</td>\n",
       "    </tr>\n",
       "    <tr>\n",
       "      <th>48</th>\n",
       "      <td>49</td>\n",
       "      <td>StoneFire Grill</td>\n",
       "      <td>Agoura Hills</td>\n",
       "      <td>31</td>\n",
       "      <td>16.0%</td>\n",
       "    </tr>\n",
       "    <tr>\n",
       "      <th>49</th>\n",
       "      <td>50</td>\n",
       "      <td>Gus's World Famous Fried Chicken</td>\n",
       "      <td>Memphis</td>\n",
       "      <td>44</td>\n",
       "      <td>14.4%</td>\n",
       "    </tr>\n",
       "  </tbody>\n",
       "</table>\n",
       "<p>50 rows × 5 columns</p>\n",
       "</div>"
      ],
      "text/plain": [
       "    Rank                        Restaurant              City  Sales YOY_Sales\n",
       "0      1                        Evergreens           Seattle     24    130.5%\n",
       "1      2                       Clean Juice         Charlotte     44    121.9%\n",
       "2      3                          Slapfish  Huntington Beach     21     81.0%\n",
       "3      4                        Clean Eatz        Wilmington     25     79.7%\n",
       "4      5                         Pokeworks            Irvine     49     77.1%\n",
       "..   ...                               ...               ...    ...       ...\n",
       "45    46                       LA Crawfish           McAllen     48     17.6%\n",
       "46    47                            &pizza        Washington     45     17.1%\n",
       "47    48               Super Duper Burgers     San Francisco     39     16.9%\n",
       "48    49                   StoneFire Grill      Agoura Hills     31     16.0%\n",
       "49    50  Gus's World Famous Fried Chicken           Memphis     44     14.4%\n",
       "\n",
       "[50 rows x 5 columns]"
      ]
     },
     "execution_count": 45,
     "metadata": {},
     "output_type": "execute_result"
    }
   ],
   "source": [
    "def split_location(city):\n",
    "    city = city.split(', ')\n",
    "    city = city[0]\n",
    "    return city\n",
    "\n",
    "future_with_city = (\n",
    "    future\n",
    "    .assign(City=future\n",
    "    .get('Location')\n",
    "    .apply(split_location))\n",
    "    .get(['Rank','Restaurant','City'])\n",
    "    .assign(Sales=future.get('Sales'), YOY_Sales=future.get('YOY_Sales'))\n",
    ")\n",
    "future_with_city"
   ]
  },
  {
   "cell_type": "code",
   "execution_count": 46,
   "metadata": {
    "deletable": false,
    "editable": false
   },
   "outputs": [
    {
     "data": {
      "text/html": [
       "<p><strong><pre style='display: inline;'>q2_5</pre></strong> passed!</p>"
      ],
      "text/plain": [
       "q2_5 results: All test cases passed!"
      ]
     },
     "execution_count": 46,
     "metadata": {},
     "output_type": "execute_result"
    }
   ],
   "source": [
    "grader.check(\"q2_5\")"
   ]
  },
  {
   "cell_type": "markdown",
   "metadata": {
    "deletable": false,
    "editable": false
   },
   "source": [
    "### Question 2.6\n",
    "**3 points**\n",
    "\n",
    "We will say a \"hot food city\" is a city with at least one restaurant in the Independents 100 (`independents`) and at least one restaurant in the Future 50 (`future_with_city`).\n",
    "\n",
    "Below, create a DataFrame `hot_cities` indexed by `'City'` and having two columns,  `'Independents_100'` and `'Future_50'`. Each row should correspond to a city, and the values in the columns should represent the number of restaurants in that city that appear on the Independents 100 and Future 50, respectively. The first few rows of `hot_cities` should look like this:\n",
    "\n",
    "| City          |   Independents_100 |   Future_50 |\n",
    "|--------------:|-------------------:|------------:|\n",
    "|**Atlanta**       |                  2 |           1 |\n",
    "|**Denver**        |                  1 |           1 |\n",
    "|**Los Angeles**|                     1 |           1 |\n",
    "\n",
    "*Hint*: This question requires you to use data from multiple DataFrames. How can you combine data from different DataFrames?\n",
    "\n",
    "<!--\n",
    "BEGIN QUESTION\n",
    "name: q2_6\n",
    "points: 3\n",
    "-->"
   ]
  },
  {
   "cell_type": "code",
   "execution_count": 47,
   "metadata": {
    "scrolled": false
   },
   "outputs": [
    {
     "data": {
      "text/html": [
       "<div>\n",
       "<style scoped>\n",
       "    .dataframe tbody tr th:only-of-type {\n",
       "        vertical-align: middle;\n",
       "    }\n",
       "\n",
       "    .dataframe tbody tr th {\n",
       "        vertical-align: top;\n",
       "    }\n",
       "\n",
       "    .dataframe thead th {\n",
       "        text-align: right;\n",
       "    }\n",
       "</style>\n",
       "<table border=\"1\" class=\"dataframe\">\n",
       "  <thead>\n",
       "    <tr style=\"text-align: right;\">\n",
       "      <th></th>\n",
       "      <th>Independents_100</th>\n",
       "      <th>Future_50</th>\n",
       "    </tr>\n",
       "    <tr>\n",
       "      <th>City</th>\n",
       "      <th></th>\n",
       "      <th></th>\n",
       "    </tr>\n",
       "  </thead>\n",
       "  <tbody>\n",
       "    <tr>\n",
       "      <th>Atlanta</th>\n",
       "      <td>2</td>\n",
       "      <td>1</td>\n",
       "    </tr>\n",
       "    <tr>\n",
       "      <th>Denver</th>\n",
       "      <td>1</td>\n",
       "      <td>1</td>\n",
       "    </tr>\n",
       "    <tr>\n",
       "      <th>Los Angeles</th>\n",
       "      <td>1</td>\n",
       "      <td>1</td>\n",
       "    </tr>\n",
       "    <tr>\n",
       "      <th>New York</th>\n",
       "      <td>21</td>\n",
       "      <td>8</td>\n",
       "    </tr>\n",
       "    <tr>\n",
       "      <th>San Francisco</th>\n",
       "      <td>5</td>\n",
       "      <td>2</td>\n",
       "    </tr>\n",
       "    <tr>\n",
       "      <th>Washington</th>\n",
       "      <td>9</td>\n",
       "      <td>1</td>\n",
       "    </tr>\n",
       "  </tbody>\n",
       "</table>\n",
       "</div>"
      ],
      "text/plain": [
       "               Independents_100  Future_50\n",
       "City                                      \n",
       "Atlanta                       2          1\n",
       "Denver                        1          1\n",
       "Los Angeles                   1          1\n",
       "New York                     21          8\n",
       "San Francisco                 5          2\n",
       "Washington                    9          1"
      ]
     },
     "execution_count": 47,
     "metadata": {},
     "output_type": "execute_result"
    }
   ],
   "source": [
    "Independents_100 = (\n",
    "    independents\n",
    "    .groupby('City')\n",
    "    .count()\n",
    "    .assign(Independents_100=independents.groupby('City').count().get('Rank'))\n",
    "    .get(['Independents_100'])\n",
    ")\n",
    "Future_50 = (\n",
    "    future_with_city\n",
    "    .groupby('City')\n",
    "    .count()\n",
    "    .assign(Future_50=future_with_city.groupby('City').count().get('Rank'))\n",
    "    .get(['Future_50'])\n",
    ")\n",
    "\n",
    "hot_cities = Independents_100.merge(Future_50, left_index=True, right_index=True)\n",
    "hot_cities"
   ]
  },
  {
   "cell_type": "code",
   "execution_count": 48,
   "metadata": {
    "deletable": false,
    "editable": false
   },
   "outputs": [
    {
     "data": {
      "text/html": [
       "<p><strong><pre style='display: inline;'>q2_6</pre></strong> passed!</p>"
      ],
      "text/plain": [
       "q2_6 results: All test cases passed!"
      ]
     },
     "execution_count": 48,
     "metadata": {},
     "output_type": "execute_result"
    }
   ],
   "source": [
    "grader.check(\"q2_6\")"
   ]
  },
  {
   "cell_type": "markdown",
   "metadata": {
    "deletable": false,
    "editable": false
   },
   "source": [
    "<!-- BEGIN QUESTION -->\n",
    "\n",
    "### Question 2.7\n",
    "**1 point**\n",
    "\n",
    "To visualize the `hot_cities` DataFrame, create an overlaid horizontal bar chart showing, for each hot city, how many of that city's restaurants appear in each of the `independents` and `future` DataFrames.\n",
    "\n",
    "\n",
    "\n",
    "<!--\n",
    "BEGIN QUESTION\n",
    "name: q2_7\n",
    "manual: true\n",
    "-->"
   ]
  },
  {
   "cell_type": "code",
   "execution_count": 49,
   "metadata": {},
   "outputs": [
    {
     "data": {
      "image/png": "[encoded data removed]",
      "text/plain": [
       "<Figure size 432x288 with 1 Axes>"
      ]
     },
     "metadata": {
      "needs_background": "light"
     },
     "output_type": "display_data"
    }
   ],
   "source": [
    "# Make your overlaid horizontal bar chart here.\n",
    "graph = hot_cities.plot(kind='barh')"
   ]
  },
  {
   "cell_type": "markdown",
   "metadata": {},
   "source": [
    "<!-- END QUESTION -->\n",
    "\n",
    "\n",
    "\n",
    "### Question 2.8\n",
    "**2 points**\n",
    "\n",
    "For each city in `hot_cities`, let us define \"food hotness\" of a city as the sum of the `Independents_100` and `Future_50` columns of `hot_cities`. In other words, the food hotness of a city is the total number of restaurants in `independents` located in that city plus the total number of mid-size chains in `future` headquartered there. \n",
    "\n",
    "Now, we want to compare the food hotness of a city with its population. Is it simply the case that larger cities are considered hotter because they have larger populations? How do we measure the \"foodiness\" of a city, taking into account its population?\n",
    "\n",
    "Use the `populations` dataset loaded below to visually compare food hotness and 2021 population using a scatter plot. Then, using your scatter plot, assign to `foodiest_city` the name of the city with the highest food hotness per capita. Food lovers, this is where you might want to plan your next vacation! ✈️\n"
   ]
  },
  {
   "cell_type": "code",
   "execution_count": 50,
   "metadata": {},
   "outputs": [
    {
     "data": {
      "text/html": [
       "<div>\n",
       "<style scoped>\n",
       "    .dataframe tbody tr th:only-of-type {\n",
       "        vertical-align: middle;\n",
       "    }\n",
       "\n",
       "    .dataframe tbody tr th {\n",
       "        vertical-align: top;\n",
       "    }\n",
       "\n",
       "    .dataframe thead th {\n",
       "        text-align: right;\n",
       "    }\n",
       "</style>\n",
       "<table border=\"1\" class=\"dataframe\">\n",
       "  <thead>\n",
       "    <tr style=\"text-align: right;\">\n",
       "      <th></th>\n",
       "      <th>rank</th>\n",
       "      <th>name</th>\n",
       "      <th>usps</th>\n",
       "      <th>pop2021</th>\n",
       "      <th>pop2010</th>\n",
       "      <th>growth</th>\n",
       "      <th>density</th>\n",
       "      <th>aland_sqmi</th>\n",
       "    </tr>\n",
       "  </thead>\n",
       "  <tbody>\n",
       "    <tr>\n",
       "      <th>0</th>\n",
       "      <td>1</td>\n",
       "      <td>New York</td>\n",
       "      <td>NY</td>\n",
       "      <td>8230290</td>\n",
       "      <td>8190210</td>\n",
       "      <td>0.0049</td>\n",
       "      <td>27400</td>\n",
       "      <td>300.381</td>\n",
       "    </tr>\n",
       "    <tr>\n",
       "      <th>1</th>\n",
       "      <td>2</td>\n",
       "      <td>Los Angeles</td>\n",
       "      <td>CA</td>\n",
       "      <td>3983540</td>\n",
       "      <td>3795510</td>\n",
       "      <td>0.0495</td>\n",
       "      <td>8494</td>\n",
       "      <td>468.956</td>\n",
       "    </tr>\n",
       "    <tr>\n",
       "      <th>2</th>\n",
       "      <td>3</td>\n",
       "      <td>Chicago</td>\n",
       "      <td>IL</td>\n",
       "      <td>2679080</td>\n",
       "      <td>2697480</td>\n",
       "      <td>-0.0068</td>\n",
       "      <td>11783</td>\n",
       "      <td>227.369</td>\n",
       "    </tr>\n",
       "    <tr>\n",
       "      <th>3</th>\n",
       "      <td>4</td>\n",
       "      <td>Houston</td>\n",
       "      <td>TX</td>\n",
       "      <td>2323660</td>\n",
       "      <td>2100280</td>\n",
       "      <td>0.1064</td>\n",
       "      <td>3630</td>\n",
       "      <td>640.194</td>\n",
       "    </tr>\n",
       "    <tr>\n",
       "      <th>4</th>\n",
       "      <td>5</td>\n",
       "      <td>Phoenix</td>\n",
       "      <td>AZ</td>\n",
       "      <td>1733630</td>\n",
       "      <td>1449040</td>\n",
       "      <td>0.1964</td>\n",
       "      <td>3349</td>\n",
       "      <td>517.673</td>\n",
       "    </tr>\n",
       "    <tr>\n",
       "      <th>...</th>\n",
       "      <td>...</td>\n",
       "      <td>...</td>\n",
       "      <td>...</td>\n",
       "      <td>...</td>\n",
       "      <td>...</td>\n",
       "      <td>...</td>\n",
       "      <td>...</td>\n",
       "      <td>...</td>\n",
       "    </tr>\n",
       "    <tr>\n",
       "      <th>195</th>\n",
       "      <td>196</td>\n",
       "      <td>Miramar</td>\n",
       "      <td>FL</td>\n",
       "      <td>142445</td>\n",
       "      <td>122300</td>\n",
       "      <td>0.1647</td>\n",
       "      <td>4937</td>\n",
       "      <td>28.853</td>\n",
       "    </tr>\n",
       "    <tr>\n",
       "      <th>196</th>\n",
       "      <td>197</td>\n",
       "      <td>Round Rock</td>\n",
       "      <td>TX</td>\n",
       "      <td>142418</td>\n",
       "      <td>100772</td>\n",
       "      <td>0.4133</td>\n",
       "      <td>3933</td>\n",
       "      <td>36.213</td>\n",
       "    </tr>\n",
       "    <tr>\n",
       "      <th>197</th>\n",
       "      <td>198</td>\n",
       "      <td>Metairie</td>\n",
       "      <td>LA</td>\n",
       "      <td>142135</td>\n",
       "      <td>138481</td>\n",
       "      <td>0.0264</td>\n",
       "      <td>6111</td>\n",
       "      <td>23.259</td>\n",
       "    </tr>\n",
       "    <tr>\n",
       "      <th>198</th>\n",
       "      <td>199</td>\n",
       "      <td>Olathe</td>\n",
       "      <td>KS</td>\n",
       "      <td>142119</td>\n",
       "      <td>126269</td>\n",
       "      <td>0.1255</td>\n",
       "      <td>2306</td>\n",
       "      <td>61.642</td>\n",
       "    </tr>\n",
       "    <tr>\n",
       "      <th>199</th>\n",
       "      <td>200</td>\n",
       "      <td>Waco</td>\n",
       "      <td>TX</td>\n",
       "      <td>141936</td>\n",
       "      <td>125377</td>\n",
       "      <td>0.1321</td>\n",
       "      <td>1597</td>\n",
       "      <td>88.856</td>\n",
       "    </tr>\n",
       "  </tbody>\n",
       "</table>\n",
       "<p>200 rows × 8 columns</p>\n",
       "</div>"
      ],
      "text/plain": [
       "     rank         name usps  pop2021  pop2010  growth  density  aland_sqmi\n",
       "0       1     New York   NY  8230290  8190210  0.0049    27400     300.381\n",
       "1       2  Los Angeles   CA  3983540  3795510  0.0495     8494     468.956\n",
       "2       3      Chicago   IL  2679080  2697480 -0.0068    11783     227.369\n",
       "3       4      Houston   TX  2323660  2100280  0.1064     3630     640.194\n",
       "4       5      Phoenix   AZ  1733630  1449040  0.1964     3349     517.673\n",
       "..    ...          ...  ...      ...      ...     ...      ...         ...\n",
       "195   196      Miramar   FL   142445   122300  0.1647     4937      28.853\n",
       "196   197   Round Rock   TX   142418   100772  0.4133     3933      36.213\n",
       "197   198     Metairie   LA   142135   138481  0.0264     6111      23.259\n",
       "198   199       Olathe   KS   142119   126269  0.1255     2306      61.642\n",
       "199   200         Waco   TX   141936   125377  0.1321     1597      88.856\n",
       "\n",
       "[200 rows x 8 columns]"
      ]
     },
     "execution_count": 50,
     "metadata": {},
     "output_type": "execute_result"
    }
   ],
   "source": [
    "populations = bpd.read_csv(\"data/populations.csv\")\n",
    "populations"
   ]
  },
  {
   "cell_type": "code",
   "execution_count": 51,
   "metadata": {},
   "outputs": [
    {
     "data": {
      "text/plain": [
       "'Washington'"
      ]
     },
     "execution_count": 51,
     "metadata": {},
     "output_type": "execute_result"
    },
    {
     "data": {
      "image/png": "[encoded data removed]",
      "text/plain": [
       "<Figure size 432x288 with 1 Axes>"
      ]
     },
     "metadata": {
      "needs_background": "light"
     },
     "output_type": "display_data"
    }
   ],
   "source": [
    "# Make your scatter plot here.\n",
    "pop2021 = populations.get(['name','pop2021'])\n",
    "hot_cities_with_food_hotness = (\n",
    "    hot_cities\n",
    "    .assign(food_hotness=hot_cities.get('Independents_100')+hot_cities.get('Future_50'))\n",
    ")\n",
    "hot_cities_pop=hot_cities_with_food_hotness.merge(pop2021, left_index=True, right_on='name')\n",
    "graph = hot_cities_pop.plot(kind='scatter', x='pop2021', y='food_hotness')\n",
    "foodiest_city = 'Washington'\n",
    "foodiest_city"
   ]
  },
  {
   "cell_type": "code",
   "execution_count": 52,
   "metadata": {
    "deletable": false,
    "editable": false
   },
   "outputs": [
    {
     "data": {
      "text/html": [
       "<p><strong><pre style='display: inline;'>q2_8</pre></strong> passed!</p>"
      ],
      "text/plain": [
       "q2_8 results: All test cases passed!"
      ]
     },
     "execution_count": 52,
     "metadata": {},
     "output_type": "execute_result"
    }
   ],
   "source": [
    "grader.check(\"q2_8\")"
   ]
  },
  {
   "cell_type": "markdown",
   "metadata": {},
   "source": [
    "<a id='part3'></a>\n",
    "## Part 3 – Stars ⭐️\n",
    "\n",
    "So far, we have been looking at restaurant data from a company that provides business intelligence for restaurants. Therefore, our data has focused on important business concepts, like sales and growth. But are these profitable, fast-growing restaurants actually serving up delicious food that we want to eat? For that information, we ask the people of Yelp. \n",
    "\n",
    "In this section, we'll work with a dataset of Yelp ratings from March 2021 for most (but not all) of the restaurants in `independents`. In the cell below, we load in our Yelp data as a DataFrame called `ratings`."
   ]
  },
  {
   "cell_type": "code",
   "execution_count": 53,
   "metadata": {},
   "outputs": [
    {
     "data": {
      "text/html": [
       "<div>\n",
       "<style scoped>\n",
       "    .dataframe tbody tr th:only-of-type {\n",
       "        vertical-align: middle;\n",
       "    }\n",
       "\n",
       "    .dataframe tbody tr th {\n",
       "        vertical-align: top;\n",
       "    }\n",
       "\n",
       "    .dataframe thead th {\n",
       "        text-align: right;\n",
       "    }\n",
       "</style>\n",
       "<table border=\"1\" class=\"dataframe\">\n",
       "  <thead>\n",
       "    <tr style=\"text-align: right;\">\n",
       "      <th></th>\n",
       "      <th>Restaurant</th>\n",
       "      <th>City</th>\n",
       "      <th>Rating</th>\n",
       "    </tr>\n",
       "  </thead>\n",
       "  <tbody>\n",
       "    <tr>\n",
       "      <th>0</th>\n",
       "      <td>15th Street Fisheries</td>\n",
       "      <td>Fort Lauderdale</td>\n",
       "      <td>3.5</td>\n",
       "    </tr>\n",
       "    <tr>\n",
       "      <th>1</th>\n",
       "      <td>Abe &amp; Louie's</td>\n",
       "      <td>Boston</td>\n",
       "      <td>4.0</td>\n",
       "    </tr>\n",
       "    <tr>\n",
       "      <th>2</th>\n",
       "      <td>Acme Feed &amp; Seed</td>\n",
       "      <td>Nashville</td>\n",
       "      <td>4.0</td>\n",
       "    </tr>\n",
       "    <tr>\n",
       "      <th>3</th>\n",
       "      <td>Angus Barn</td>\n",
       "      <td>Raleigh</td>\n",
       "      <td>4.0</td>\n",
       "    </tr>\n",
       "    <tr>\n",
       "      <th>4</th>\n",
       "      <td>Atlanta Fish Market</td>\n",
       "      <td>Atlanta</td>\n",
       "      <td>3.5</td>\n",
       "    </tr>\n",
       "    <tr>\n",
       "      <th>...</th>\n",
       "      <td>...</td>\n",
       "      <td>...</td>\n",
       "      <td>...</td>\n",
       "    </tr>\n",
       "    <tr>\n",
       "      <th>86</th>\n",
       "      <td>Top of the World at the STRAT</td>\n",
       "      <td>Las Vegas</td>\n",
       "      <td>4.5</td>\n",
       "    </tr>\n",
       "    <tr>\n",
       "      <th>87</th>\n",
       "      <td>Upland</td>\n",
       "      <td>New York</td>\n",
       "      <td>4.0</td>\n",
       "    </tr>\n",
       "    <tr>\n",
       "      <th>88</th>\n",
       "      <td>Virgil's Real Barbecue</td>\n",
       "      <td>New York</td>\n",
       "      <td>3.5</td>\n",
       "    </tr>\n",
       "    <tr>\n",
       "      <th>89</th>\n",
       "      <td>Virgil's Real Barbecue</td>\n",
       "      <td>Las Vegas</td>\n",
       "      <td>4.0</td>\n",
       "    </tr>\n",
       "    <tr>\n",
       "      <th>90</th>\n",
       "      <td>Zehnder's of Frankenmuth</td>\n",
       "      <td>Frankenmuth</td>\n",
       "      <td>3.5</td>\n",
       "    </tr>\n",
       "  </tbody>\n",
       "</table>\n",
       "<p>91 rows × 3 columns</p>\n",
       "</div>"
      ],
      "text/plain": [
       "                        Restaurant             City  Rating\n",
       "0            15th Street Fisheries  Fort Lauderdale     3.5\n",
       "1                    Abe & Louie's           Boston     4.0\n",
       "2                 Acme Feed & Seed        Nashville     4.0\n",
       "3                       Angus Barn          Raleigh     4.0\n",
       "4              Atlanta Fish Market          Atlanta     3.5\n",
       "..                             ...              ...     ...\n",
       "86  Top of the World at the STRAT         Las Vegas     4.5\n",
       "87                          Upland         New York     4.0\n",
       "88          Virgil's Real Barbecue         New York     3.5\n",
       "89          Virgil's Real Barbecue        Las Vegas     4.0\n",
       "90        Zehnder's of Frankenmuth      Frankenmuth     3.5\n",
       "\n",
       "[91 rows x 3 columns]"
      ]
     },
     "execution_count": 53,
     "metadata": {},
     "output_type": "execute_result"
    }
   ],
   "source": [
    "ratings = bpd.read_csv('data/independents_ratings.csv')\n",
    "ratings"
   ]
  },
  {
   "cell_type": "markdown",
   "metadata": {},
   "source": [
    "### Question 3.1\n",
    "**1 point**\n",
    "\n",
    "It's worth thinking about why this Yelp data includes `'City'` – isn't it enough to just have the name of the restaurant and its rating?\n",
    "\n",
    "Well, no – not if there are multiple restaurants with the same name! Below, assign `duplicate_restaurants` to an array containing the names of restaurants in `independents` that appear more than once. You don't need to sort them in any particular order."
   ]
  },
  {
   "cell_type": "code",
   "execution_count": 54,
   "metadata": {
    "scrolled": true
   },
   "outputs": [
    {
     "data": {
      "text/plain": [
       "array(['Gibsons Bar & Steakhouse',\n",
       "       \"Joe's Seafood, Prime Steak & Stone Crab\",\n",
       "       \"Virgil's Real Barbecue\"], dtype=object)"
      ]
     },
     "execution_count": 54,
     "metadata": {},
     "output_type": "execute_result"
    }
   ],
   "source": [
    "duplicate_restaurants = np.array(\n",
    "    independents\n",
    "    .groupby('Restaurant')\n",
    "    .count()[independents.groupby('Restaurant').count().get('Rank')>1]\n",
    "    .index\n",
    ")\n",
    "duplicate_restaurants"
   ]
  },
  {
   "cell_type": "code",
   "execution_count": 55,
   "metadata": {
    "deletable": false,
    "editable": false
   },
   "outputs": [
    {
     "data": {
      "text/html": [
       "<p><strong><pre style='display: inline;'>q3_1</pre></strong> passed!</p>"
      ],
      "text/plain": [
       "q3_1 results: All test cases passed!"
      ]
     },
     "execution_count": 55,
     "metadata": {},
     "output_type": "execute_result"
    }
   ],
   "source": [
    "grader.check(\"q3_1\")"
   ]
  },
  {
   "cell_type": "markdown",
   "metadata": {},
   "source": [
    "Next, we'll create a new DataFrame called `independents_with_ratings` by merging `independents` and `ratings` on both `'Restaurant'` and `'City'`.\n",
    "\n",
    "We need to merge by both columns to correctly handle the duplicate restaurants we identified above. Think about what would happen if we merged by only `'Restaurant'`.\n",
    "\n",
    "We haven't yet seen how to merge two DataFrames on multiple columns, but it turns out that if you just omit all the optional parameters in the call to `merge`, the DataFrames will be merged on all column labels that are common to both DataFrames.\n",
    "\n",
    "Recall the column names of the `independents` and `ratings` DataFrames by running the next two cells."
   ]
  },
  {
   "cell_type": "code",
   "execution_count": 56,
   "metadata": {
    "scrolled": true
   },
   "outputs": [
    {
     "data": {
      "text/plain": [
       "Index(['Rank', 'Restaurant', 'Sales', 'Average Check', 'City', 'State',\n",
       "       'Meals Served'],\n",
       "      dtype='object')"
      ]
     },
     "execution_count": 56,
     "metadata": {},
     "output_type": "execute_result"
    }
   ],
   "source": [
    "independents.columns"
   ]
  },
  {
   "cell_type": "code",
   "execution_count": 57,
   "metadata": {},
   "outputs": [
    {
     "data": {
      "text/plain": [
       "Index(['Restaurant', 'City', 'Rating'], dtype='object')"
      ]
     },
     "execution_count": 57,
     "metadata": {},
     "output_type": "execute_result"
    }
   ],
   "source": [
    "ratings.columns"
   ]
  },
  {
   "cell_type": "markdown",
   "metadata": {},
   "source": [
    "The column names appearing in both DataFrames are exactly `'Restaurant'` and `'City'`, the two columns we want to merge on. This makes our call to `merge` simple. Run the cell below to merge the two DataFrames based on `'Restaurant'` and `'City'`."
   ]
  },
  {
   "cell_type": "code",
   "execution_count": 58,
   "metadata": {
    "scrolled": true
   },
   "outputs": [
    {
     "data": {
      "text/html": [
       "<div>\n",
       "<style scoped>\n",
       "    .dataframe tbody tr th:only-of-type {\n",
       "        vertical-align: middle;\n",
       "    }\n",
       "\n",
       "    .dataframe tbody tr th {\n",
       "        vertical-align: top;\n",
       "    }\n",
       "\n",
       "    .dataframe thead th {\n",
       "        text-align: right;\n",
       "    }\n",
       "</style>\n",
       "<table border=\"1\" class=\"dataframe\">\n",
       "  <thead>\n",
       "    <tr style=\"text-align: right;\">\n",
       "      <th></th>\n",
       "      <th>Rank</th>\n",
       "      <th>Restaurant</th>\n",
       "      <th>Sales</th>\n",
       "      <th>Average Check</th>\n",
       "      <th>City</th>\n",
       "      <th>State</th>\n",
       "      <th>Meals Served</th>\n",
       "      <th>Rating</th>\n",
       "    </tr>\n",
       "  </thead>\n",
       "  <tbody>\n",
       "    <tr>\n",
       "      <th>0</th>\n",
       "      <td>1</td>\n",
       "      <td>Carmine's (Times Square)</td>\n",
       "      <td>39080335</td>\n",
       "      <td>40</td>\n",
       "      <td>New York</td>\n",
       "      <td>N.Y.</td>\n",
       "      <td>469803.0</td>\n",
       "      <td>4.0</td>\n",
       "    </tr>\n",
       "    <tr>\n",
       "      <th>1</th>\n",
       "      <td>2</td>\n",
       "      <td>The Boathouse Orlando</td>\n",
       "      <td>35218364</td>\n",
       "      <td>43</td>\n",
       "      <td>Orlando</td>\n",
       "      <td>Fla.</td>\n",
       "      <td>820819.0</td>\n",
       "      <td>4.0</td>\n",
       "    </tr>\n",
       "    <tr>\n",
       "      <th>2</th>\n",
       "      <td>4</td>\n",
       "      <td>LAVO Italian Restaurant &amp; Nightclub</td>\n",
       "      <td>26916180</td>\n",
       "      <td>90</td>\n",
       "      <td>New York</td>\n",
       "      <td>N.Y.</td>\n",
       "      <td>198500.0</td>\n",
       "      <td>2.5</td>\n",
       "    </tr>\n",
       "    <tr>\n",
       "      <th>3</th>\n",
       "      <td>5</td>\n",
       "      <td>Bryant Park Grill &amp; Cafe</td>\n",
       "      <td>26900000</td>\n",
       "      <td>62</td>\n",
       "      <td>New York</td>\n",
       "      <td>N.Y.</td>\n",
       "      <td>403000.0</td>\n",
       "      <td>3.5</td>\n",
       "    </tr>\n",
       "    <tr>\n",
       "      <th>4</th>\n",
       "      <td>6</td>\n",
       "      <td>Gibsons Bar &amp; Steakhouse</td>\n",
       "      <td>25409952</td>\n",
       "      <td>80</td>\n",
       "      <td>Chicago</td>\n",
       "      <td>Ill.</td>\n",
       "      <td>348567.0</td>\n",
       "      <td>4.0</td>\n",
       "    </tr>\n",
       "    <tr>\n",
       "      <th>...</th>\n",
       "      <td>...</td>\n",
       "      <td>...</td>\n",
       "      <td>...</td>\n",
       "      <td>...</td>\n",
       "      <td>...</td>\n",
       "      <td>...</td>\n",
       "      <td>...</td>\n",
       "      <td>...</td>\n",
       "    </tr>\n",
       "    <tr>\n",
       "      <th>86</th>\n",
       "      <td>95</td>\n",
       "      <td>Franciscan Crab Restaurant</td>\n",
       "      <td>12218147</td>\n",
       "      <td>59</td>\n",
       "      <td>San Francisco</td>\n",
       "      <td>Calif.</td>\n",
       "      <td>240000.0</td>\n",
       "      <td>3.5</td>\n",
       "    </tr>\n",
       "    <tr>\n",
       "      <th>87</th>\n",
       "      <td>96</td>\n",
       "      <td>George's at the Cove</td>\n",
       "      <td>12194000</td>\n",
       "      <td>80</td>\n",
       "      <td>La Jolla</td>\n",
       "      <td>Calif.</td>\n",
       "      <td>250000.0</td>\n",
       "      <td>4.0</td>\n",
       "    </tr>\n",
       "    <tr>\n",
       "      <th>88</th>\n",
       "      <td>97</td>\n",
       "      <td>Le Coucou</td>\n",
       "      <td>12187523</td>\n",
       "      <td>95</td>\n",
       "      <td>New York</td>\n",
       "      <td>N.Y.</td>\n",
       "      <td>87070.0</td>\n",
       "      <td>4.0</td>\n",
       "    </tr>\n",
       "    <tr>\n",
       "      <th>89</th>\n",
       "      <td>99</td>\n",
       "      <td>Upland</td>\n",
       "      <td>11965564</td>\n",
       "      <td>52</td>\n",
       "      <td>New York</td>\n",
       "      <td>N.Y.</td>\n",
       "      <td>171825.0</td>\n",
       "      <td>4.0</td>\n",
       "    </tr>\n",
       "    <tr>\n",
       "      <th>90</th>\n",
       "      <td>100</td>\n",
       "      <td>Virgil's Real Barbecue</td>\n",
       "      <td>11391678</td>\n",
       "      <td>27</td>\n",
       "      <td>Las Vegas</td>\n",
       "      <td>Nev.</td>\n",
       "      <td>208276.0</td>\n",
       "      <td>4.0</td>\n",
       "    </tr>\n",
       "  </tbody>\n",
       "</table>\n",
       "<p>91 rows × 8 columns</p>\n",
       "</div>"
      ],
      "text/plain": [
       "    Rank                           Restaurant     Sales  Average Check  \\\n",
       "0      1             Carmine's (Times Square)  39080335             40   \n",
       "1      2                The Boathouse Orlando  35218364             43   \n",
       "2      4  LAVO Italian Restaurant & Nightclub  26916180             90   \n",
       "3      5             Bryant Park Grill & Cafe  26900000             62   \n",
       "4      6             Gibsons Bar & Steakhouse  25409952             80   \n",
       "..   ...                                  ...       ...            ...   \n",
       "86    95           Franciscan Crab Restaurant  12218147             59   \n",
       "87    96                 George's at the Cove  12194000             80   \n",
       "88    97                            Le Coucou  12187523             95   \n",
       "89    99                               Upland  11965564             52   \n",
       "90   100               Virgil's Real Barbecue  11391678             27   \n",
       "\n",
       "             City   State  Meals Served  Rating  \n",
       "0        New York    N.Y.      469803.0     4.0  \n",
       "1        Orlando     Fla.      820819.0     4.0  \n",
       "2        New York    N.Y.      198500.0     2.5  \n",
       "3        New York    N.Y.      403000.0     3.5  \n",
       "4         Chicago    Ill.      348567.0     4.0  \n",
       "..            ...     ...           ...     ...  \n",
       "86  San Francisco  Calif.      240000.0     3.5  \n",
       "87       La Jolla  Calif.      250000.0     4.0  \n",
       "88       New York    N.Y.       87070.0     4.0  \n",
       "89       New York    N.Y.      171825.0     4.0  \n",
       "90      Las Vegas    Nev.      208276.0     4.0  \n",
       "\n",
       "[91 rows x 8 columns]"
      ]
     },
     "execution_count": 58,
     "metadata": {},
     "output_type": "execute_result"
    }
   ],
   "source": [
    "independents_with_ratings = independents.merge(ratings) \n",
    "independents_with_ratings"
   ]
  },
  {
   "cell_type": "markdown",
   "metadata": {
    "deletable": false,
    "editable": false
   },
   "source": [
    "### Question 3.2\n",
    "**2 points**\n",
    "\n",
    "For each state, find the proportion of independent restaurants in that state that have at least a 4 star rating. Save your result to a `Series` called `state_proportions` indexed by state name and sorted in ascending order.\n",
    "\n",
    "<!--\n",
    "BEGIN QUESTION\n",
    "name: q3_2\n",
    "points: 2\n",
    "-->"
   ]
  },
  {
   "cell_type": "code",
   "execution_count": 59,
   "metadata": {},
   "outputs": [
    {
     "data": {
      "text/plain": [
       "State\n",
       "Mich.    0.0\n",
       "N.J.     0.0\n",
       "Fla.     0.0\n",
       "Va.      0.0\n",
       "Colo.    0.0\n",
       "        ... \n",
       "Mass.    1.0\n",
       "N.C.     1.0\n",
       "Ore.     1.0\n",
       "Pa.      1.0\n",
       "Tenn.    1.0\n",
       "Name: At_Least_Four_Star_Prop, Length: 18, dtype: float64"
      ]
     },
     "execution_count": 59,
     "metadata": {},
     "output_type": "execute_result"
    }
   ],
   "source": [
    "total_restaurant_each_state = (\n",
    "    independents_with_ratings\n",
    "    .groupby('State')\n",
    "    .count()\n",
    "    .get(['Restaurant'])\n",
    ")\n",
    "at_least_four_star_restaurant = (\n",
    "    independents_with_ratings[independents_with_ratings.get('Rating')>=4.0]\n",
    "    .groupby('State')\n",
    "    .count()\n",
    "    .get(['Restaurant'])\n",
    ")\n",
    "\n",
    "def propotion_calculation(state):\n",
    "    if state in at_least_four_star_restaurant.index:\n",
    "        return at_least_four_star_restaurant.loc[state].get('Restaurant')/total_restaurant_each_state.loc[state].get('Restaurant')\n",
    "    else:\n",
    "        return 0\n",
    "\n",
    "state_proportions = bpd.DataFrame().assign(\n",
    "    State = np.array(total_restaurant_each_state.reset_index().get('State')),\n",
    "    At_Least_Four_Star_Prop = np.array(total_restaurant_each_state.reset_index().get('State').apply(propotion_calculation))\n",
    ").set_index('State').sort_values('At_Least_Four_Star_Prop').get('At_Least_Four_Star_Prop')\n",
    "\n",
    "state_proportions"
   ]
  },
  {
   "cell_type": "code",
   "execution_count": 60,
   "metadata": {
    "deletable": false,
    "editable": false
   },
   "outputs": [
    {
     "data": {
      "text/html": [
       "<p><strong><pre style='display: inline;'>q3_2</pre></strong> passed!</p>"
      ],
      "text/plain": [
       "q3_2 results: All test cases passed!"
      ]
     },
     "execution_count": 60,
     "metadata": {},
     "output_type": "execute_result"
    }
   ],
   "source": [
    "grader.check(\"q3_2\")"
   ]
  },
  {
   "cell_type": "code",
   "execution_count": 61,
   "metadata": {},
   "outputs": [
    {
     "data": {
      "text/plain": [
       "True"
      ]
     },
     "execution_count": 61,
     "metadata": {},
     "output_type": "execute_result"
    }
   ],
   "source": [
    "## HIDDEN TEST\n",
    "np.isclose(state_proportions.loc[\"Calif.\"], 0.5833333333333334)"
   ]
  },
  {
   "cell_type": "code",
   "execution_count": 62,
   "metadata": {},
   "outputs": [
    {
     "data": {
      "text/plain": [
       "True"
      ]
     },
     "execution_count": 62,
     "metadata": {},
     "output_type": "execute_result"
    }
   ],
   "source": [
    "## HIDDEN TEST\n",
    "np.isclose(state_proportions.mean(), 0.580707872374539)"
   ]
  },
  {
   "cell_type": "markdown",
   "metadata": {
    "deletable": false,
    "editable": false
   },
   "source": [
    "<!-- BEGIN QUESTION -->\n",
    "\n",
    "### Question 3.3\n",
    "**1 point**\n",
    "\n",
    "Are higher-rated restaurants more expensive? Make a vertical bar chart of restaurant `'Rating'` versus **median**`'Average Check'` to see if there is an association between these variables. \n",
    "\n",
    "<!--\n",
    "BEGIN QUESTION\n",
    "name: q3_3\n",
    "manual: true\n",
    "-->"
   ]
  },
  {
   "cell_type": "code",
   "execution_count": 63,
   "metadata": {
    "scrolled": true
   },
   "outputs": [
    {
     "data": {
      "image/png": "[encoded data removed]",
      "text/plain": [
       "<Figure size 432x288 with 1 Axes>"
      ]
     },
     "metadata": {
      "needs_background": "light"
     },
     "output_type": "display_data"
    }
   ],
   "source": [
    "# Make your vertical bar chart here.\n",
    "graph = independents_with_ratings.groupby('Rating').median().reset_index().plot(kind='bar',x='Rating',y='Average Check')"
   ]
  },
  {
   "cell_type": "markdown",
   "metadata": {},
   "source": [
    "<!-- END QUESTION -->\n",
    "\n",
    "\n",
    "\n",
    "This is a very interesting result! One possible explanation is that people who go to really expensive restaurants are hard to please. "
   ]
  },
  {
   "cell_type": "markdown",
   "metadata": {
    "deletable": false,
    "editable": false
   },
   "source": [
    "### Question 3.4 \n",
    "**3 points**\n",
    "\n",
    "In the bar chart above, we were thinking of `'Rating'` as a categorical variable. Now let's treat `'Rating'` as a numerical variable and look at its distribution to understand what kind of ratings the restaurants in `independents_with_ratings` receive. \n",
    "\n",
    "#### Part a)\n",
    "**1 point**\n",
    "\n",
    "Set the variable `rating_bins` to an array of values such that:\n",
    "- a  histogram of `'Rating'` with these bins has each distinct value of `'Rating'` in a separate bin, \n",
    "- there are no spaces between the bins, \n",
    "- the first bin includes the lowest value in the `'Rating'` column, and \n",
    "- the last bin includes the highest value in the `'Rating'` column.\n",
    "\n",
    "<!--\n",
    "BEGIN QUESTION\n",
    "name: q3_4a\n",
    "-->\n"
   ]
  },
  {
   "cell_type": "code",
   "execution_count": 64,
   "metadata": {
    "scrolled": false
   },
   "outputs": [
    {
     "data": {
      "image/png": "[encoded data removed]",
      "text/plain": [
       "<Figure size 432x288 with 1 Axes>"
      ]
     },
     "metadata": {
      "needs_background": "light"
     },
     "output_type": "display_data"
    }
   ],
   "source": [
    "rating_bins = np.arange(2.5,5.5,0.5)\n",
    "independents_with_ratings.plot(kind='hist', y='Rating', bins = rating_bins, density=True, ec='w');"
   ]
  },
  {
   "cell_type": "code",
   "execution_count": 65,
   "metadata": {
    "deletable": false,
    "editable": false
   },
   "outputs": [
    {
     "data": {
      "text/html": [
       "<p><strong><pre style='display: inline;'>q3_4a</pre></strong> passed!</p>"
      ],
      "text/plain": [
       "q3_4a results: All test cases passed!"
      ]
     },
     "execution_count": 65,
     "metadata": {},
     "output_type": "execute_result"
    }
   ],
   "source": [
    "grader.check(\"q3_4a\")"
   ]
  },
  {
   "cell_type": "markdown",
   "metadata": {
    "deletable": false,
    "editable": false
   },
   "source": [
    "#### Part b)\n",
    "**1 point**\n",
    "\n",
    "Your histogram should show you that very few restaurants in `independents_with_ratings` got the lowest rating. In fact, there is only one! Set `worst_restaurant` to the name of this restaurant and set `worst_restaurant_avg_check` to the amount of the average check at this restaurant. \n",
    "<!--\n",
    "BEGIN QUESTION\n",
    "name: q3_4b\n",
    "-->"
   ]
  },
  {
   "cell_type": "code",
   "execution_count": 66,
   "metadata": {
    "scrolled": true
   },
   "outputs": [
    {
     "name": "stdout",
     "output_type": "stream",
     "text": [
      "The worst restaurant is LAVO Italian Restaurant & Nightclub; the average check at this restaurant is 90 dollars.\n"
     ]
    }
   ],
   "source": [
    "worst_restaurant = independents_with_ratings.sort_values('Rating').get('Restaurant').iloc[0]\n",
    "worst_restaurant_avg_check = independents_with_ratings.sort_values('Rating').get('Average Check').iloc[0]\n",
    "print(f\"The worst restaurant is {worst_restaurant}; the average check at this restaurant is {worst_restaurant_avg_check} dollars.\")"
   ]
  },
  {
   "cell_type": "code",
   "execution_count": 67,
   "metadata": {
    "deletable": false,
    "editable": false
   },
   "outputs": [
    {
     "data": {
      "text/html": [
       "<p><strong><pre style='display: inline;'>q3_4b</pre></strong> passed!</p>"
      ],
      "text/plain": [
       "q3_4b results: All test cases passed!"
      ]
     },
     "execution_count": 67,
     "metadata": {},
     "output_type": "execute_result"
    }
   ],
   "source": [
    "grader.check(\"q3_4b\")"
   ]
  },
  {
   "cell_type": "markdown",
   "metadata": {
    "deletable": false,
    "editable": false
   },
   "source": [
    "Notice that this explains the interesting result we found in our bar chart from Question 3.3. Our bar chart made it seem like low-rated restaurants were really expensive, but this was based only on a single bad expensive restaurant. Perhaps it's better to go one place for Italian food and then go to a separate nightclub? 🤷🏽‍♀️\n",
    "\n",
    "#### Part c)\n",
    "**1 point**\n",
    "\n",
    "In a density histogram, it can be hard to tell the exact height of a bar from looking at the histogram, but if you know the data from which the histogram was generated, you should be able to figure it out. Use `independents_with_ratings` to determine the exact height of the bar in the histogram that corresponds to restaurants with a rating of 3.5 stars. Save your result as `hist_height`.\n",
    "\n",
    "*Hint*: You can check if your answer is approximately correct by inspecting the histogram in Part (a).\n",
    "\n",
    "<!--\n",
    "BEGIN QUESTION\n",
    "name: q3_4c\n",
    "-->"
   ]
  },
  {
   "cell_type": "code",
   "execution_count": 68,
   "metadata": {},
   "outputs": [
    {
     "data": {
      "text/plain": [
       "0.5714285714285714"
      ]
     },
     "execution_count": 68,
     "metadata": {},
     "output_type": "execute_result"
    }
   ],
   "source": [
    "hist_height = (independents_with_ratings[independents_with_ratings.get('Rating')==3.5].shape[0])/(independents_with_ratings.shape[0])/0.5\n",
    "hist_height"
   ]
  },
  {
   "cell_type": "code",
   "execution_count": 69,
   "metadata": {
    "deletable": false,
    "editable": false
   },
   "outputs": [
    {
     "data": {
      "text/html": [
       "<p><strong><pre style='display: inline;'>q3_4c</pre></strong> passed!</p>"
      ],
      "text/plain": [
       "q3_4c results: All test cases passed!"
      ]
     },
     "execution_count": 69,
     "metadata": {},
     "output_type": "execute_result"
    }
   ],
   "source": [
    "grader.check(\"q3_4c\")"
   ]
  },
  {
   "cell_type": "markdown",
   "metadata": {
    "deletable": false,
    "editable": false
   },
   "source": [
    "### Question 3.5\n",
    "**3 points**\n",
    "\n",
    "Lastly, we want to examine the relationship between average check and star rating, separately in each city. To do this, we can use `.groupby` with subgroups. Create a DataFrame called `check_by_city_and_rating` that shows the **median** `'Average Check'` value of restaurants for each city-rating combination. Since there are many such pairs, limit their number in two ways:\n",
    "- Only include cities that have at least three restaurants in `independents_with_rating`.\n",
    "- Only include full stars earned in the rating. For example, a rating of 3.5 should be counted the same as a rating of 3.0 for this problem.\n",
    "\n",
    "The first few rows of `check_by_city_and_rating` should look like this:\n",
    "\n",
    "\n",
    "<img src=\"./images/last_output.png\" width=300/>\n",
    "\n",
    "\n",
    "*Hint*: The function `np.floor` should be useful here. Feel free to look up what it does.\n",
    "\n",
    "*Note*: This question is similar to Question 2.4, where we looked at the median `'Average Check'` by city. Referring back to how you solved that problem might be helpful. As with Question 2.4, this is a challenging problem that takes multiple steps, so feel free to break it down and use as many lines of code as you need.\n",
    "\n",
    "\n",
    "<!--\n",
    "BEGIN QUESTION\n",
    "name: q3_5\n",
    "points: 3\n",
    "-->"
   ]
  },
  {
   "cell_type": "code",
   "execution_count": 70,
   "metadata": {
    "scrolled": true
   },
   "outputs": [
    {
     "data": {
      "text/html": [
       "<div>\n",
       "<style scoped>\n",
       "    .dataframe tbody tr th:only-of-type {\n",
       "        vertical-align: middle;\n",
       "    }\n",
       "\n",
       "    .dataframe tbody tr th {\n",
       "        vertical-align: top;\n",
       "    }\n",
       "\n",
       "    .dataframe thead th {\n",
       "        text-align: right;\n",
       "    }\n",
       "</style>\n",
       "<table border=\"1\" class=\"dataframe\">\n",
       "  <thead>\n",
       "    <tr style=\"text-align: right;\">\n",
       "      <th></th>\n",
       "      <th></th>\n",
       "      <th>Average Check</th>\n",
       "    </tr>\n",
       "    <tr>\n",
       "      <th>City</th>\n",
       "      <th>Rounded_Rating</th>\n",
       "      <th></th>\n",
       "    </tr>\n",
       "  </thead>\n",
       "  <tbody>\n",
       "    <tr>\n",
       "      <th rowspan=\"2\" valign=\"top\">Chicago</th>\n",
       "      <th>3.0</th>\n",
       "      <td>83.5</td>\n",
       "    </tr>\n",
       "    <tr>\n",
       "      <th>4.0</th>\n",
       "      <td>82.0</td>\n",
       "    </tr>\n",
       "    <tr>\n",
       "      <th rowspan=\"2\" valign=\"top\">Las Vegas</th>\n",
       "      <th>3.0</th>\n",
       "      <td>97.0</td>\n",
       "    </tr>\n",
       "    <tr>\n",
       "      <th>4.0</th>\n",
       "      <td>101.0</td>\n",
       "    </tr>\n",
       "    <tr>\n",
       "      <th>Miami</th>\n",
       "      <th>3.0</th>\n",
       "      <td>88.0</td>\n",
       "    </tr>\n",
       "    <tr>\n",
       "      <th>...</th>\n",
       "      <th>...</th>\n",
       "      <td>...</td>\n",
       "    </tr>\n",
       "    <tr>\n",
       "      <th rowspan=\"3\" valign=\"top\">New York</th>\n",
       "      <th>2.0</th>\n",
       "      <td>90.0</td>\n",
       "    </tr>\n",
       "    <tr>\n",
       "      <th>3.0</th>\n",
       "      <td>62.0</td>\n",
       "    </tr>\n",
       "    <tr>\n",
       "      <th>4.0</th>\n",
       "      <td>88.5</td>\n",
       "    </tr>\n",
       "    <tr>\n",
       "      <th rowspan=\"2\" valign=\"top\">San Francisco</th>\n",
       "      <th>3.0</th>\n",
       "      <td>56.5</td>\n",
       "    </tr>\n",
       "    <tr>\n",
       "      <th>4.0</th>\n",
       "      <td>45.0</td>\n",
       "    </tr>\n",
       "  </tbody>\n",
       "</table>\n",
       "<p>11 rows × 1 columns</p>\n",
       "</div>"
      ],
      "text/plain": [
       "                              Average Check\n",
       "City          Rounded_Rating               \n",
       "Chicago       3.0                      83.5\n",
       "              4.0                      82.0\n",
       "Las Vegas     3.0                      97.0\n",
       "              4.0                     101.0\n",
       "Miami         3.0                      88.0\n",
       "...                                     ...\n",
       "New York      2.0                      90.0\n",
       "              3.0                      62.0\n",
       "              4.0                      88.5\n",
       "San Francisco 3.0                      56.5\n",
       "              4.0                      45.0\n",
       "\n",
       "[11 rows x 1 columns]"
      ]
     },
     "execution_count": 70,
     "metadata": {},
     "output_type": "execute_result"
    }
   ],
   "source": [
    "def rounded_rating(rating):\n",
    "    if rating<3:\n",
    "        return 2.0\n",
    "    elif rating<4:\n",
    "        return 3.0\n",
    "    elif rating<5:\n",
    "        return 4.0\n",
    "    else:\n",
    "        return 5.0\n",
    "    \n",
    "at_least_three_restaurants = (\n",
    "    independents_with_ratings\n",
    "    .groupby('City')\n",
    "    .count()[independents_with_ratings.groupby('City').count().get('Rank')>=3]\n",
    "    .reset_index()\n",
    "    .get(['City'])\n",
    ")\n",
    "at_least_three_restaurants_city = (\n",
    "    independents_with_ratings[(independents_with_ratings.get('City')=='Miami')\n",
    "                             |(independents_with_ratings.get('City')=='San Francisco')\n",
    "                             |(independents_with_ratings.get('City')=='Washington')\n",
    "                             |(independents_with_ratings.get('City')=='Las Vegas')\n",
    "                             |(independents_with_ratings.get('City')=='Chicago')\n",
    "                             |(independents_with_ratings.get('City')=='New York')]\n",
    "                             .get(['Average Check','City','Rating'])\n",
    ")\n",
    "\n",
    "\n",
    "check_by_city_and_rating = (\n",
    "    at_least_three_restaurants_city\n",
    "    .assign(Rounded_Rating=at_least_three_restaurants_city.get('Rating').apply(rounded_rating))\n",
    ").get(['Average Check','City','Rounded_Rating']).groupby(['City','Rounded_Rating']).median()\n",
    "check_by_city_and_rating"
   ]
  },
  {
   "cell_type": "code",
   "execution_count": 71,
   "metadata": {
    "deletable": false,
    "editable": false
   },
   "outputs": [
    {
     "data": {
      "text/html": [
       "<p><strong><pre style='display: inline;'>q3_5</pre></strong> passed!</p>"
      ],
      "text/plain": [
       "q3_5 results: All test cases passed!"
      ]
     },
     "execution_count": 71,
     "metadata": {},
     "output_type": "execute_result"
    }
   ],
   "source": [
    "grader.check(\"q3_5\")"
   ]
  },
  {
   "cell_type": "markdown",
   "metadata": {},
   "source": [
    "## Congratulations! You've completed Project 1!\n",
    "\n",
    "All you need to do now is submit your assignment:\n",
    "\n",
    "1. Select Kernel -> Restart & Run All to ensure that you have executed all cells, including the test cells.\n",
    "2. Read through the notebook to make sure everything is fine and all tests passed.\n",
    "3. Run the cell below to run all tests, and make sure that they all pass.\n",
    "4. Download your notebook using File -> Download as -> Notebook (.ipynb), then upload your notebook to Gradescope. Don't forget to add your partner to your group on Gradescope!\n",
    "\n",
    "If running all the tests at once causes a test to fail that didn't fail when you ran the notebook in order, check to see if you changed a variable's value later in your code. Make sure to use new variable names instead of reusing ones that are used in the tests. \n",
    "\n",
    "Remember, the tests here and on Gradescope just check the format of your answers. We will run correctness tests after the assignment's due date has passed."
   ]
  },
  {
   "cell_type": "code",
   "execution_count": 72,
   "metadata": {},
   "outputs": [
    {
     "data": {
      "text/plain": [
       "q1_1 results: All test cases passed!\n",
       "\n",
       "q1_10 results: All test cases passed!\n",
       "\n",
       "q1_11 results: All test cases passed!\n",
       "\n",
       "q1_12 results: All test cases passed!\n",
       "\n",
       "q1_2 results: All test cases passed!\n",
       "\n",
       "q1_3 results: All test cases passed!\n",
       "\n",
       "q1_4 results: All test cases passed!\n",
       "\n",
       "q1_5 results: All test cases passed!\n",
       "\n",
       "q1_6 results: All test cases passed!\n",
       "\n",
       "q1_7a results: All test cases passed!\n",
       "\n",
       "q1_7b results: All test cases passed!\n",
       "\n",
       "q1_8 results: All test cases passed!\n",
       "\n",
       "q1_9 results: All test cases passed!\n",
       "\n",
       "q2_1 results: All test cases passed!\n",
       "\n",
       "q2_2 results: All test cases passed!\n",
       "\n",
       "q2_4 results: All test cases passed!\n",
       "\n",
       "q2_5 results: All test cases passed!\n",
       "\n",
       "q2_6 results: All test cases passed!\n",
       "\n",
       "q2_8 results: All test cases passed!\n",
       "\n",
       "q3_1 results: All test cases passed!\n",
       "\n",
       "q3_2 results: All test cases passed!\n",
       "\n",
       "q3_4a results: All test cases passed!\n",
       "\n",
       "q3_4b results: All test cases passed!\n",
       "\n",
       "q3_4c results: All test cases passed!\n",
       "\n",
       "q3_5 results: All test cases passed!"
      ]
     },
     "execution_count": 72,
     "metadata": {},
     "output_type": "execute_result"
    }
   ],
   "source": [
    "grader.check_all()"
   ]
  }
 ],
 "metadata": {
  "interpreter": {
   "hash": "aee8b7b246df8f9039afb4144a1f6fd8d2ca17a180786b69acc140d282b71a49"
  },
  "kernelspec": {
   "display_name": "Python 3 (ipykernel)",
   "language": "python",
   "name": "python3"
  },
  "language_info": {
   "codemirror_mode": {
    "name": "ipython",
    "version": 3
   },
   "file_extension": ".py",
   "mimetype": "text/x-python",
   "name": "python",
   "nbconvert_exporter": "python",
   "pygments_lexer": "ipython3",
   "version": "3.9.5"
  },
  "toc": {
   "base_numbering": 1,
   "nav_menu": {},
   "number_sections": true,
   "sideBar": true,
   "skip_h1_title": false,
   "title_cell": "Table of Contents",
   "title_sidebar": "Contents",
   "toc_cell": false,
   "toc_position": {},
   "toc_section_display": true,
   "toc_window_display": false
  }
 },
 "nbformat": 4,
 "nbformat_minor": 4
}
